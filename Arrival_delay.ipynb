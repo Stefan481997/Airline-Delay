{
 "cells": [
  {
   "cell_type": "code",
   "execution_count": 1,
   "id": "cca9f148",
   "metadata": {},
   "outputs": [],
   "source": [
    "import pandas as pd\n",
    "from scipy.stats import skew\n",
    "from scipy.stats import kurtosis\n",
    "import seaborn as sns\n",
    "%matplotlib inline\n",
    "import matplotlib.pyplot as plt\n",
    "from distfit import distfit\n",
    "from sklearn.linear_model import LinearRegression"
   ]
  },
  {
   "cell_type": "code",
   "execution_count": 2,
   "id": "b6a94b25",
   "metadata": {},
   "outputs": [],
   "source": [
    "df1=pd.read_csv('2014.csv')\n",
    "df2=pd.read_csv('2015.csv')\n",
    "df3=pd.read_csv('2016.csv')\n",
    "df4=pd.read_csv('2017.csv')\n",
    "df5=pd.read_csv('2018.csv')"
   ]
  },
  {
   "cell_type": "code",
   "execution_count": 3,
   "id": "20557a3f",
   "metadata": {},
   "outputs": [],
   "source": [
    "df=pd.concat([df1,df2,df3,df4,df5],axis=0)\n",
    "df.reset_index(drop=True,inplace=True)"
   ]
  },
  {
   "cell_type": "code",
   "execution_count": 4,
   "id": "632ffde5",
   "metadata": {},
   "outputs": [
    {
     "data": {
      "text/html": [
       "<div>\n",
       "<style scoped>\n",
       "    .dataframe tbody tr th:only-of-type {\n",
       "        vertical-align: middle;\n",
       "    }\n",
       "\n",
       "    .dataframe tbody tr th {\n",
       "        vertical-align: top;\n",
       "    }\n",
       "\n",
       "    .dataframe thead th {\n",
       "        text-align: right;\n",
       "    }\n",
       "</style>\n",
       "<table border=\"1\" class=\"dataframe\">\n",
       "  <thead>\n",
       "    <tr style=\"text-align: right;\">\n",
       "      <th></th>\n",
       "      <th>FL_DATE</th>\n",
       "      <th>OP_CARRIER</th>\n",
       "      <th>OP_CARRIER_FL_NUM</th>\n",
       "      <th>ORIGIN</th>\n",
       "      <th>DEST</th>\n",
       "      <th>CRS_DEP_TIME</th>\n",
       "      <th>DEP_TIME</th>\n",
       "      <th>DEP_DELAY</th>\n",
       "      <th>TAXI_OUT</th>\n",
       "      <th>WHEELS_OFF</th>\n",
       "      <th>...</th>\n",
       "      <th>CRS_ELAPSED_TIME</th>\n",
       "      <th>ACTUAL_ELAPSED_TIME</th>\n",
       "      <th>AIR_TIME</th>\n",
       "      <th>DISTANCE</th>\n",
       "      <th>CARRIER_DELAY</th>\n",
       "      <th>WEATHER_DELAY</th>\n",
       "      <th>NAS_DELAY</th>\n",
       "      <th>SECURITY_DELAY</th>\n",
       "      <th>LATE_AIRCRAFT_DELAY</th>\n",
       "      <th>Unnamed: 27</th>\n",
       "    </tr>\n",
       "  </thead>\n",
       "  <tbody>\n",
       "    <tr>\n",
       "      <th>0</th>\n",
       "      <td>2014-01-01</td>\n",
       "      <td>AA</td>\n",
       "      <td>2377</td>\n",
       "      <td>ICT</td>\n",
       "      <td>DFW</td>\n",
       "      <td>1135</td>\n",
       "      <td>1144.0</td>\n",
       "      <td>9.0</td>\n",
       "      <td>12.0</td>\n",
       "      <td>1156.0</td>\n",
       "      <td>...</td>\n",
       "      <td>85.0</td>\n",
       "      <td>78.0</td>\n",
       "      <td>57.0</td>\n",
       "      <td>328.0</td>\n",
       "      <td>NaN</td>\n",
       "      <td>NaN</td>\n",
       "      <td>NaN</td>\n",
       "      <td>NaN</td>\n",
       "      <td>NaN</td>\n",
       "      <td>NaN</td>\n",
       "    </tr>\n",
       "    <tr>\n",
       "      <th>1</th>\n",
       "      <td>2014-01-01</td>\n",
       "      <td>AA</td>\n",
       "      <td>2378</td>\n",
       "      <td>MIA</td>\n",
       "      <td>TPA</td>\n",
       "      <td>2225</td>\n",
       "      <td>2220.0</td>\n",
       "      <td>-5.0</td>\n",
       "      <td>14.0</td>\n",
       "      <td>2234.0</td>\n",
       "      <td>...</td>\n",
       "      <td>60.0</td>\n",
       "      <td>55.0</td>\n",
       "      <td>37.0</td>\n",
       "      <td>204.0</td>\n",
       "      <td>NaN</td>\n",
       "      <td>NaN</td>\n",
       "      <td>NaN</td>\n",
       "      <td>NaN</td>\n",
       "      <td>NaN</td>\n",
       "      <td>NaN</td>\n",
       "    </tr>\n",
       "    <tr>\n",
       "      <th>2</th>\n",
       "      <td>2014-01-01</td>\n",
       "      <td>EV</td>\n",
       "      <td>2500</td>\n",
       "      <td>DFW</td>\n",
       "      <td>HOU</td>\n",
       "      <td>2105</td>\n",
       "      <td>NaN</td>\n",
       "      <td>NaN</td>\n",
       "      <td>NaN</td>\n",
       "      <td>NaN</td>\n",
       "      <td>...</td>\n",
       "      <td>60.0</td>\n",
       "      <td>NaN</td>\n",
       "      <td>NaN</td>\n",
       "      <td>247.0</td>\n",
       "      <td>NaN</td>\n",
       "      <td>NaN</td>\n",
       "      <td>NaN</td>\n",
       "      <td>NaN</td>\n",
       "      <td>NaN</td>\n",
       "      <td>NaN</td>\n",
       "    </tr>\n",
       "    <tr>\n",
       "      <th>3</th>\n",
       "      <td>2014-01-01</td>\n",
       "      <td>EV</td>\n",
       "      <td>2502</td>\n",
       "      <td>CRW</td>\n",
       "      <td>DFW</td>\n",
       "      <td>1655</td>\n",
       "      <td>1805.0</td>\n",
       "      <td>70.0</td>\n",
       "      <td>6.0</td>\n",
       "      <td>1811.0</td>\n",
       "      <td>...</td>\n",
       "      <td>185.0</td>\n",
       "      <td>180.0</td>\n",
       "      <td>150.0</td>\n",
       "      <td>946.0</td>\n",
       "      <td>0.0</td>\n",
       "      <td>0.0</td>\n",
       "      <td>0.0</td>\n",
       "      <td>0.0</td>\n",
       "      <td>65.0</td>\n",
       "      <td>NaN</td>\n",
       "    </tr>\n",
       "    <tr>\n",
       "      <th>4</th>\n",
       "      <td>2014-01-01</td>\n",
       "      <td>EV</td>\n",
       "      <td>2502</td>\n",
       "      <td>DFW</td>\n",
       "      <td>CRW</td>\n",
       "      <td>1320</td>\n",
       "      <td>1440.0</td>\n",
       "      <td>80.0</td>\n",
       "      <td>9.0</td>\n",
       "      <td>1449.0</td>\n",
       "      <td>...</td>\n",
       "      <td>125.0</td>\n",
       "      <td>115.0</td>\n",
       "      <td>101.0</td>\n",
       "      <td>946.0</td>\n",
       "      <td>6.0</td>\n",
       "      <td>0.0</td>\n",
       "      <td>0.0</td>\n",
       "      <td>0.0</td>\n",
       "      <td>64.0</td>\n",
       "      <td>NaN</td>\n",
       "    </tr>\n",
       "  </tbody>\n",
       "</table>\n",
       "<p>5 rows × 28 columns</p>\n",
       "</div>"
      ],
      "text/plain": [
       "      FL_DATE OP_CARRIER  OP_CARRIER_FL_NUM ORIGIN DEST  CRS_DEP_TIME  \\\n",
       "0  2014-01-01         AA               2377    ICT  DFW          1135   \n",
       "1  2014-01-01         AA               2378    MIA  TPA          2225   \n",
       "2  2014-01-01         EV               2500    DFW  HOU          2105   \n",
       "3  2014-01-01         EV               2502    CRW  DFW          1655   \n",
       "4  2014-01-01         EV               2502    DFW  CRW          1320   \n",
       "\n",
       "   DEP_TIME  DEP_DELAY  TAXI_OUT  WHEELS_OFF  ...  CRS_ELAPSED_TIME  \\\n",
       "0    1144.0        9.0      12.0      1156.0  ...              85.0   \n",
       "1    2220.0       -5.0      14.0      2234.0  ...              60.0   \n",
       "2       NaN        NaN       NaN         NaN  ...              60.0   \n",
       "3    1805.0       70.0       6.0      1811.0  ...             185.0   \n",
       "4    1440.0       80.0       9.0      1449.0  ...             125.0   \n",
       "\n",
       "   ACTUAL_ELAPSED_TIME  AIR_TIME  DISTANCE  CARRIER_DELAY  WEATHER_DELAY  \\\n",
       "0                 78.0      57.0     328.0            NaN            NaN   \n",
       "1                 55.0      37.0     204.0            NaN            NaN   \n",
       "2                  NaN       NaN     247.0            NaN            NaN   \n",
       "3                180.0     150.0     946.0            0.0            0.0   \n",
       "4                115.0     101.0     946.0            6.0            0.0   \n",
       "\n",
       "  NAS_DELAY  SECURITY_DELAY  LATE_AIRCRAFT_DELAY  Unnamed: 27  \n",
       "0       NaN             NaN                  NaN          NaN  \n",
       "1       NaN             NaN                  NaN          NaN  \n",
       "2       NaN             NaN                  NaN          NaN  \n",
       "3       0.0             0.0                 65.0          NaN  \n",
       "4       0.0             0.0                 64.0          NaN  \n",
       "\n",
       "[5 rows x 28 columns]"
      ]
     },
     "execution_count": 4,
     "metadata": {},
     "output_type": "execute_result"
    }
   ],
   "source": [
    "df.head()"
   ]
  },
  {
   "cell_type": "code",
   "execution_count": 5,
   "id": "d6c4a398",
   "metadata": {
    "scrolled": true
   },
   "outputs": [
    {
     "data": {
      "text/html": [
       "<div>\n",
       "<style scoped>\n",
       "    .dataframe tbody tr th:only-of-type {\n",
       "        vertical-align: middle;\n",
       "    }\n",
       "\n",
       "    .dataframe tbody tr th {\n",
       "        vertical-align: top;\n",
       "    }\n",
       "\n",
       "    .dataframe thead th {\n",
       "        text-align: right;\n",
       "    }\n",
       "</style>\n",
       "<table border=\"1\" class=\"dataframe\">\n",
       "  <thead>\n",
       "    <tr style=\"text-align: right;\">\n",
       "      <th></th>\n",
       "      <th>FL_DATE</th>\n",
       "      <th>OP_CARRIER</th>\n",
       "      <th>OP_CARRIER_FL_NUM</th>\n",
       "      <th>ORIGIN</th>\n",
       "      <th>DEST</th>\n",
       "      <th>CRS_DEP_TIME</th>\n",
       "      <th>DEP_TIME</th>\n",
       "      <th>DEP_DELAY</th>\n",
       "      <th>TAXI_OUT</th>\n",
       "      <th>WHEELS_OFF</th>\n",
       "      <th>...</th>\n",
       "      <th>CRS_ELAPSED_TIME</th>\n",
       "      <th>ACTUAL_ELAPSED_TIME</th>\n",
       "      <th>AIR_TIME</th>\n",
       "      <th>DISTANCE</th>\n",
       "      <th>CARRIER_DELAY</th>\n",
       "      <th>WEATHER_DELAY</th>\n",
       "      <th>NAS_DELAY</th>\n",
       "      <th>SECURITY_DELAY</th>\n",
       "      <th>LATE_AIRCRAFT_DELAY</th>\n",
       "      <th>Unnamed: 27</th>\n",
       "    </tr>\n",
       "  </thead>\n",
       "  <tbody>\n",
       "    <tr>\n",
       "      <th>30144610</th>\n",
       "      <td>2018-12-31</td>\n",
       "      <td>AA</td>\n",
       "      <td>1815</td>\n",
       "      <td>DCA</td>\n",
       "      <td>CLT</td>\n",
       "      <td>1534</td>\n",
       "      <td>1530.0</td>\n",
       "      <td>-4.0</td>\n",
       "      <td>20.0</td>\n",
       "      <td>1550.0</td>\n",
       "      <td>...</td>\n",
       "      <td>100.0</td>\n",
       "      <td>99.0</td>\n",
       "      <td>72.0</td>\n",
       "      <td>331.0</td>\n",
       "      <td>NaN</td>\n",
       "      <td>NaN</td>\n",
       "      <td>NaN</td>\n",
       "      <td>NaN</td>\n",
       "      <td>NaN</td>\n",
       "      <td>NaN</td>\n",
       "    </tr>\n",
       "    <tr>\n",
       "      <th>30144611</th>\n",
       "      <td>2018-12-31</td>\n",
       "      <td>AA</td>\n",
       "      <td>1816</td>\n",
       "      <td>CLT</td>\n",
       "      <td>DFW</td>\n",
       "      <td>1751</td>\n",
       "      <td>1757.0</td>\n",
       "      <td>6.0</td>\n",
       "      <td>18.0</td>\n",
       "      <td>1815.0</td>\n",
       "      <td>...</td>\n",
       "      <td>181.0</td>\n",
       "      <td>176.0</td>\n",
       "      <td>148.0</td>\n",
       "      <td>936.0</td>\n",
       "      <td>NaN</td>\n",
       "      <td>NaN</td>\n",
       "      <td>NaN</td>\n",
       "      <td>NaN</td>\n",
       "      <td>NaN</td>\n",
       "      <td>NaN</td>\n",
       "    </tr>\n",
       "    <tr>\n",
       "      <th>30144612</th>\n",
       "      <td>2018-12-31</td>\n",
       "      <td>AA</td>\n",
       "      <td>1817</td>\n",
       "      <td>CLT</td>\n",
       "      <td>MEM</td>\n",
       "      <td>2015</td>\n",
       "      <td>2010.0</td>\n",
       "      <td>-5.0</td>\n",
       "      <td>36.0</td>\n",
       "      <td>2046.0</td>\n",
       "      <td>...</td>\n",
       "      <td>112.0</td>\n",
       "      <td>128.0</td>\n",
       "      <td>88.0</td>\n",
       "      <td>511.0</td>\n",
       "      <td>NaN</td>\n",
       "      <td>NaN</td>\n",
       "      <td>NaN</td>\n",
       "      <td>NaN</td>\n",
       "      <td>NaN</td>\n",
       "      <td>NaN</td>\n",
       "    </tr>\n",
       "    <tr>\n",
       "      <th>30144613</th>\n",
       "      <td>2018-12-31</td>\n",
       "      <td>AA</td>\n",
       "      <td>1818</td>\n",
       "      <td>CLT</td>\n",
       "      <td>RDU</td>\n",
       "      <td>1300</td>\n",
       "      <td>1323.0</td>\n",
       "      <td>23.0</td>\n",
       "      <td>11.0</td>\n",
       "      <td>1334.0</td>\n",
       "      <td>...</td>\n",
       "      <td>50.0</td>\n",
       "      <td>41.0</td>\n",
       "      <td>26.0</td>\n",
       "      <td>130.0</td>\n",
       "      <td>NaN</td>\n",
       "      <td>NaN</td>\n",
       "      <td>NaN</td>\n",
       "      <td>NaN</td>\n",
       "      <td>NaN</td>\n",
       "      <td>NaN</td>\n",
       "    </tr>\n",
       "    <tr>\n",
       "      <th>30144614</th>\n",
       "      <td>2018-12-31</td>\n",
       "      <td>AA</td>\n",
       "      <td>1818</td>\n",
       "      <td>RDU</td>\n",
       "      <td>CLT</td>\n",
       "      <td>1435</td>\n",
       "      <td>1443.0</td>\n",
       "      <td>8.0</td>\n",
       "      <td>8.0</td>\n",
       "      <td>1451.0</td>\n",
       "      <td>...</td>\n",
       "      <td>71.0</td>\n",
       "      <td>59.0</td>\n",
       "      <td>44.0</td>\n",
       "      <td>130.0</td>\n",
       "      <td>NaN</td>\n",
       "      <td>NaN</td>\n",
       "      <td>NaN</td>\n",
       "      <td>NaN</td>\n",
       "      <td>NaN</td>\n",
       "      <td>NaN</td>\n",
       "    </tr>\n",
       "  </tbody>\n",
       "</table>\n",
       "<p>5 rows × 28 columns</p>\n",
       "</div>"
      ],
      "text/plain": [
       "             FL_DATE OP_CARRIER  OP_CARRIER_FL_NUM ORIGIN DEST  CRS_DEP_TIME  \\\n",
       "30144610  2018-12-31         AA               1815    DCA  CLT          1534   \n",
       "30144611  2018-12-31         AA               1816    CLT  DFW          1751   \n",
       "30144612  2018-12-31         AA               1817    CLT  MEM          2015   \n",
       "30144613  2018-12-31         AA               1818    CLT  RDU          1300   \n",
       "30144614  2018-12-31         AA               1818    RDU  CLT          1435   \n",
       "\n",
       "          DEP_TIME  DEP_DELAY  TAXI_OUT  WHEELS_OFF  ...  CRS_ELAPSED_TIME  \\\n",
       "30144610    1530.0       -4.0      20.0      1550.0  ...             100.0   \n",
       "30144611    1757.0        6.0      18.0      1815.0  ...             181.0   \n",
       "30144612    2010.0       -5.0      36.0      2046.0  ...             112.0   \n",
       "30144613    1323.0       23.0      11.0      1334.0  ...              50.0   \n",
       "30144614    1443.0        8.0       8.0      1451.0  ...              71.0   \n",
       "\n",
       "          ACTUAL_ELAPSED_TIME  AIR_TIME  DISTANCE  CARRIER_DELAY  \\\n",
       "30144610                 99.0      72.0     331.0            NaN   \n",
       "30144611                176.0     148.0     936.0            NaN   \n",
       "30144612                128.0      88.0     511.0            NaN   \n",
       "30144613                 41.0      26.0     130.0            NaN   \n",
       "30144614                 59.0      44.0     130.0            NaN   \n",
       "\n",
       "          WEATHER_DELAY NAS_DELAY  SECURITY_DELAY  LATE_AIRCRAFT_DELAY  \\\n",
       "30144610            NaN       NaN             NaN                  NaN   \n",
       "30144611            NaN       NaN             NaN                  NaN   \n",
       "30144612            NaN       NaN             NaN                  NaN   \n",
       "30144613            NaN       NaN             NaN                  NaN   \n",
       "30144614            NaN       NaN             NaN                  NaN   \n",
       "\n",
       "          Unnamed: 27  \n",
       "30144610          NaN  \n",
       "30144611          NaN  \n",
       "30144612          NaN  \n",
       "30144613          NaN  \n",
       "30144614          NaN  \n",
       "\n",
       "[5 rows x 28 columns]"
      ]
     },
     "execution_count": 5,
     "metadata": {},
     "output_type": "execute_result"
    }
   ],
   "source": [
    "df.tail()"
   ]
  },
  {
   "cell_type": "code",
   "execution_count": 6,
   "id": "9fce2892",
   "metadata": {},
   "outputs": [
    {
     "data": {
      "text/html": [
       "<div>\n",
       "<style scoped>\n",
       "    .dataframe tbody tr th:only-of-type {\n",
       "        vertical-align: middle;\n",
       "    }\n",
       "\n",
       "    .dataframe tbody tr th {\n",
       "        vertical-align: top;\n",
       "    }\n",
       "\n",
       "    .dataframe thead th {\n",
       "        text-align: right;\n",
       "    }\n",
       "</style>\n",
       "<table border=\"1\" class=\"dataframe\">\n",
       "  <thead>\n",
       "    <tr style=\"text-align: right;\">\n",
       "      <th></th>\n",
       "      <th>FL_DATE</th>\n",
       "      <th>OP_CARRIER</th>\n",
       "      <th>OP_CARRIER_FL_NUM</th>\n",
       "      <th>ORIGIN</th>\n",
       "      <th>DEST</th>\n",
       "      <th>CRS_DEP_TIME</th>\n",
       "      <th>DEP_TIME</th>\n",
       "      <th>DEP_DELAY</th>\n",
       "      <th>TAXI_OUT</th>\n",
       "      <th>WHEELS_OFF</th>\n",
       "      <th>...</th>\n",
       "      <th>CRS_ELAPSED_TIME</th>\n",
       "      <th>ACTUAL_ELAPSED_TIME</th>\n",
       "      <th>AIR_TIME</th>\n",
       "      <th>DISTANCE</th>\n",
       "      <th>CARRIER_DELAY</th>\n",
       "      <th>WEATHER_DELAY</th>\n",
       "      <th>NAS_DELAY</th>\n",
       "      <th>SECURITY_DELAY</th>\n",
       "      <th>LATE_AIRCRAFT_DELAY</th>\n",
       "      <th>Unnamed: 27</th>\n",
       "    </tr>\n",
       "  </thead>\n",
       "  <tbody>\n",
       "    <tr>\n",
       "      <th>0</th>\n",
       "      <td>2014-01-01</td>\n",
       "      <td>AA</td>\n",
       "      <td>2377</td>\n",
       "      <td>ICT</td>\n",
       "      <td>DFW</td>\n",
       "      <td>1135</td>\n",
       "      <td>1144.0</td>\n",
       "      <td>9.0</td>\n",
       "      <td>12.0</td>\n",
       "      <td>1156.0</td>\n",
       "      <td>...</td>\n",
       "      <td>85.0</td>\n",
       "      <td>78.0</td>\n",
       "      <td>57.0</td>\n",
       "      <td>328.0</td>\n",
       "      <td>NaN</td>\n",
       "      <td>NaN</td>\n",
       "      <td>NaN</td>\n",
       "      <td>NaN</td>\n",
       "      <td>NaN</td>\n",
       "      <td>NaN</td>\n",
       "    </tr>\n",
       "    <tr>\n",
       "      <th>1</th>\n",
       "      <td>2014-01-01</td>\n",
       "      <td>AA</td>\n",
       "      <td>2378</td>\n",
       "      <td>MIA</td>\n",
       "      <td>TPA</td>\n",
       "      <td>2225</td>\n",
       "      <td>2220.0</td>\n",
       "      <td>-5.0</td>\n",
       "      <td>14.0</td>\n",
       "      <td>2234.0</td>\n",
       "      <td>...</td>\n",
       "      <td>60.0</td>\n",
       "      <td>55.0</td>\n",
       "      <td>37.0</td>\n",
       "      <td>204.0</td>\n",
       "      <td>NaN</td>\n",
       "      <td>NaN</td>\n",
       "      <td>NaN</td>\n",
       "      <td>NaN</td>\n",
       "      <td>NaN</td>\n",
       "      <td>NaN</td>\n",
       "    </tr>\n",
       "    <tr>\n",
       "      <th>2</th>\n",
       "      <td>2014-01-01</td>\n",
       "      <td>EV</td>\n",
       "      <td>2500</td>\n",
       "      <td>DFW</td>\n",
       "      <td>HOU</td>\n",
       "      <td>2105</td>\n",
       "      <td>NaN</td>\n",
       "      <td>NaN</td>\n",
       "      <td>NaN</td>\n",
       "      <td>NaN</td>\n",
       "      <td>...</td>\n",
       "      <td>60.0</td>\n",
       "      <td>NaN</td>\n",
       "      <td>NaN</td>\n",
       "      <td>247.0</td>\n",
       "      <td>NaN</td>\n",
       "      <td>NaN</td>\n",
       "      <td>NaN</td>\n",
       "      <td>NaN</td>\n",
       "      <td>NaN</td>\n",
       "      <td>NaN</td>\n",
       "    </tr>\n",
       "    <tr>\n",
       "      <th>3</th>\n",
       "      <td>2014-01-01</td>\n",
       "      <td>EV</td>\n",
       "      <td>2502</td>\n",
       "      <td>CRW</td>\n",
       "      <td>DFW</td>\n",
       "      <td>1655</td>\n",
       "      <td>1805.0</td>\n",
       "      <td>70.0</td>\n",
       "      <td>6.0</td>\n",
       "      <td>1811.0</td>\n",
       "      <td>...</td>\n",
       "      <td>185.0</td>\n",
       "      <td>180.0</td>\n",
       "      <td>150.0</td>\n",
       "      <td>946.0</td>\n",
       "      <td>0.0</td>\n",
       "      <td>0.0</td>\n",
       "      <td>0.0</td>\n",
       "      <td>0.0</td>\n",
       "      <td>65.0</td>\n",
       "      <td>NaN</td>\n",
       "    </tr>\n",
       "    <tr>\n",
       "      <th>4</th>\n",
       "      <td>2014-01-01</td>\n",
       "      <td>EV</td>\n",
       "      <td>2502</td>\n",
       "      <td>DFW</td>\n",
       "      <td>CRW</td>\n",
       "      <td>1320</td>\n",
       "      <td>1440.0</td>\n",
       "      <td>80.0</td>\n",
       "      <td>9.0</td>\n",
       "      <td>1449.0</td>\n",
       "      <td>...</td>\n",
       "      <td>125.0</td>\n",
       "      <td>115.0</td>\n",
       "      <td>101.0</td>\n",
       "      <td>946.0</td>\n",
       "      <td>6.0</td>\n",
       "      <td>0.0</td>\n",
       "      <td>0.0</td>\n",
       "      <td>0.0</td>\n",
       "      <td>64.0</td>\n",
       "      <td>NaN</td>\n",
       "    </tr>\n",
       "    <tr>\n",
       "      <th>...</th>\n",
       "      <td>...</td>\n",
       "      <td>...</td>\n",
       "      <td>...</td>\n",
       "      <td>...</td>\n",
       "      <td>...</td>\n",
       "      <td>...</td>\n",
       "      <td>...</td>\n",
       "      <td>...</td>\n",
       "      <td>...</td>\n",
       "      <td>...</td>\n",
       "      <td>...</td>\n",
       "      <td>...</td>\n",
       "      <td>...</td>\n",
       "      <td>...</td>\n",
       "      <td>...</td>\n",
       "      <td>...</td>\n",
       "      <td>...</td>\n",
       "      <td>...</td>\n",
       "      <td>...</td>\n",
       "      <td>...</td>\n",
       "      <td>...</td>\n",
       "    </tr>\n",
       "    <tr>\n",
       "      <th>30144610</th>\n",
       "      <td>2018-12-31</td>\n",
       "      <td>AA</td>\n",
       "      <td>1815</td>\n",
       "      <td>DCA</td>\n",
       "      <td>CLT</td>\n",
       "      <td>1534</td>\n",
       "      <td>1530.0</td>\n",
       "      <td>-4.0</td>\n",
       "      <td>20.0</td>\n",
       "      <td>1550.0</td>\n",
       "      <td>...</td>\n",
       "      <td>100.0</td>\n",
       "      <td>99.0</td>\n",
       "      <td>72.0</td>\n",
       "      <td>331.0</td>\n",
       "      <td>NaN</td>\n",
       "      <td>NaN</td>\n",
       "      <td>NaN</td>\n",
       "      <td>NaN</td>\n",
       "      <td>NaN</td>\n",
       "      <td>NaN</td>\n",
       "    </tr>\n",
       "    <tr>\n",
       "      <th>30144611</th>\n",
       "      <td>2018-12-31</td>\n",
       "      <td>AA</td>\n",
       "      <td>1816</td>\n",
       "      <td>CLT</td>\n",
       "      <td>DFW</td>\n",
       "      <td>1751</td>\n",
       "      <td>1757.0</td>\n",
       "      <td>6.0</td>\n",
       "      <td>18.0</td>\n",
       "      <td>1815.0</td>\n",
       "      <td>...</td>\n",
       "      <td>181.0</td>\n",
       "      <td>176.0</td>\n",
       "      <td>148.0</td>\n",
       "      <td>936.0</td>\n",
       "      <td>NaN</td>\n",
       "      <td>NaN</td>\n",
       "      <td>NaN</td>\n",
       "      <td>NaN</td>\n",
       "      <td>NaN</td>\n",
       "      <td>NaN</td>\n",
       "    </tr>\n",
       "    <tr>\n",
       "      <th>30144612</th>\n",
       "      <td>2018-12-31</td>\n",
       "      <td>AA</td>\n",
       "      <td>1817</td>\n",
       "      <td>CLT</td>\n",
       "      <td>MEM</td>\n",
       "      <td>2015</td>\n",
       "      <td>2010.0</td>\n",
       "      <td>-5.0</td>\n",
       "      <td>36.0</td>\n",
       "      <td>2046.0</td>\n",
       "      <td>...</td>\n",
       "      <td>112.0</td>\n",
       "      <td>128.0</td>\n",
       "      <td>88.0</td>\n",
       "      <td>511.0</td>\n",
       "      <td>NaN</td>\n",
       "      <td>NaN</td>\n",
       "      <td>NaN</td>\n",
       "      <td>NaN</td>\n",
       "      <td>NaN</td>\n",
       "      <td>NaN</td>\n",
       "    </tr>\n",
       "    <tr>\n",
       "      <th>30144613</th>\n",
       "      <td>2018-12-31</td>\n",
       "      <td>AA</td>\n",
       "      <td>1818</td>\n",
       "      <td>CLT</td>\n",
       "      <td>RDU</td>\n",
       "      <td>1300</td>\n",
       "      <td>1323.0</td>\n",
       "      <td>23.0</td>\n",
       "      <td>11.0</td>\n",
       "      <td>1334.0</td>\n",
       "      <td>...</td>\n",
       "      <td>50.0</td>\n",
       "      <td>41.0</td>\n",
       "      <td>26.0</td>\n",
       "      <td>130.0</td>\n",
       "      <td>NaN</td>\n",
       "      <td>NaN</td>\n",
       "      <td>NaN</td>\n",
       "      <td>NaN</td>\n",
       "      <td>NaN</td>\n",
       "      <td>NaN</td>\n",
       "    </tr>\n",
       "    <tr>\n",
       "      <th>30144614</th>\n",
       "      <td>2018-12-31</td>\n",
       "      <td>AA</td>\n",
       "      <td>1818</td>\n",
       "      <td>RDU</td>\n",
       "      <td>CLT</td>\n",
       "      <td>1435</td>\n",
       "      <td>1443.0</td>\n",
       "      <td>8.0</td>\n",
       "      <td>8.0</td>\n",
       "      <td>1451.0</td>\n",
       "      <td>...</td>\n",
       "      <td>71.0</td>\n",
       "      <td>59.0</td>\n",
       "      <td>44.0</td>\n",
       "      <td>130.0</td>\n",
       "      <td>NaN</td>\n",
       "      <td>NaN</td>\n",
       "      <td>NaN</td>\n",
       "      <td>NaN</td>\n",
       "      <td>NaN</td>\n",
       "      <td>NaN</td>\n",
       "    </tr>\n",
       "  </tbody>\n",
       "</table>\n",
       "<p>30144615 rows × 28 columns</p>\n",
       "</div>"
      ],
      "text/plain": [
       "             FL_DATE OP_CARRIER  OP_CARRIER_FL_NUM ORIGIN DEST  CRS_DEP_TIME  \\\n",
       "0         2014-01-01         AA               2377    ICT  DFW          1135   \n",
       "1         2014-01-01         AA               2378    MIA  TPA          2225   \n",
       "2         2014-01-01         EV               2500    DFW  HOU          2105   \n",
       "3         2014-01-01         EV               2502    CRW  DFW          1655   \n",
       "4         2014-01-01         EV               2502    DFW  CRW          1320   \n",
       "...              ...        ...                ...    ...  ...           ...   \n",
       "30144610  2018-12-31         AA               1815    DCA  CLT          1534   \n",
       "30144611  2018-12-31         AA               1816    CLT  DFW          1751   \n",
       "30144612  2018-12-31         AA               1817    CLT  MEM          2015   \n",
       "30144613  2018-12-31         AA               1818    CLT  RDU          1300   \n",
       "30144614  2018-12-31         AA               1818    RDU  CLT          1435   \n",
       "\n",
       "          DEP_TIME  DEP_DELAY  TAXI_OUT  WHEELS_OFF  ...  CRS_ELAPSED_TIME  \\\n",
       "0           1144.0        9.0      12.0      1156.0  ...              85.0   \n",
       "1           2220.0       -5.0      14.0      2234.0  ...              60.0   \n",
       "2              NaN        NaN       NaN         NaN  ...              60.0   \n",
       "3           1805.0       70.0       6.0      1811.0  ...             185.0   \n",
       "4           1440.0       80.0       9.0      1449.0  ...             125.0   \n",
       "...            ...        ...       ...         ...  ...               ...   \n",
       "30144610    1530.0       -4.0      20.0      1550.0  ...             100.0   \n",
       "30144611    1757.0        6.0      18.0      1815.0  ...             181.0   \n",
       "30144612    2010.0       -5.0      36.0      2046.0  ...             112.0   \n",
       "30144613    1323.0       23.0      11.0      1334.0  ...              50.0   \n",
       "30144614    1443.0        8.0       8.0      1451.0  ...              71.0   \n",
       "\n",
       "          ACTUAL_ELAPSED_TIME  AIR_TIME  DISTANCE  CARRIER_DELAY  \\\n",
       "0                        78.0      57.0     328.0            NaN   \n",
       "1                        55.0      37.0     204.0            NaN   \n",
       "2                         NaN       NaN     247.0            NaN   \n",
       "3                       180.0     150.0     946.0            0.0   \n",
       "4                       115.0     101.0     946.0            6.0   \n",
       "...                       ...       ...       ...            ...   \n",
       "30144610                 99.0      72.0     331.0            NaN   \n",
       "30144611                176.0     148.0     936.0            NaN   \n",
       "30144612                128.0      88.0     511.0            NaN   \n",
       "30144613                 41.0      26.0     130.0            NaN   \n",
       "30144614                 59.0      44.0     130.0            NaN   \n",
       "\n",
       "          WEATHER_DELAY NAS_DELAY  SECURITY_DELAY  LATE_AIRCRAFT_DELAY  \\\n",
       "0                   NaN       NaN             NaN                  NaN   \n",
       "1                   NaN       NaN             NaN                  NaN   \n",
       "2                   NaN       NaN             NaN                  NaN   \n",
       "3                   0.0       0.0             0.0                 65.0   \n",
       "4                   0.0       0.0             0.0                 64.0   \n",
       "...                 ...       ...             ...                  ...   \n",
       "30144610            NaN       NaN             NaN                  NaN   \n",
       "30144611            NaN       NaN             NaN                  NaN   \n",
       "30144612            NaN       NaN             NaN                  NaN   \n",
       "30144613            NaN       NaN             NaN                  NaN   \n",
       "30144614            NaN       NaN             NaN                  NaN   \n",
       "\n",
       "          Unnamed: 27  \n",
       "0                 NaN  \n",
       "1                 NaN  \n",
       "2                 NaN  \n",
       "3                 NaN  \n",
       "4                 NaN  \n",
       "...               ...  \n",
       "30144610          NaN  \n",
       "30144611          NaN  \n",
       "30144612          NaN  \n",
       "30144613          NaN  \n",
       "30144614          NaN  \n",
       "\n",
       "[30144615 rows x 28 columns]"
      ]
     },
     "execution_count": 6,
     "metadata": {},
     "output_type": "execute_result"
    }
   ],
   "source": [
    "df"
   ]
  },
  {
   "cell_type": "code",
   "execution_count": 7,
   "id": "e682d417",
   "metadata": {},
   "outputs": [
    {
     "data": {
      "text/plain": [
       "Index(['FL_DATE', 'OP_CARRIER', 'OP_CARRIER_FL_NUM', 'ORIGIN', 'DEST',\n",
       "       'CRS_DEP_TIME', 'DEP_TIME', 'DEP_DELAY', 'TAXI_OUT', 'WHEELS_OFF',\n",
       "       'WHEELS_ON', 'TAXI_IN', 'CRS_ARR_TIME', 'ARR_TIME', 'ARR_DELAY',\n",
       "       'CANCELLED', 'CANCELLATION_CODE', 'DIVERTED', 'CRS_ELAPSED_TIME',\n",
       "       'ACTUAL_ELAPSED_TIME', 'AIR_TIME', 'DISTANCE', 'CARRIER_DELAY',\n",
       "       'WEATHER_DELAY', 'NAS_DELAY', 'SECURITY_DELAY', 'LATE_AIRCRAFT_DELAY',\n",
       "       'Unnamed: 27'],\n",
       "      dtype='object')"
      ]
     },
     "execution_count": 7,
     "metadata": {},
     "output_type": "execute_result"
    }
   ],
   "source": [
    "df.columns"
   ]
  },
  {
   "cell_type": "code",
   "execution_count": 8,
   "id": "a7ab7794",
   "metadata": {},
   "outputs": [
    {
     "data": {
      "text/plain": [
       "FL_DATE                 object\n",
       "OP_CARRIER              object\n",
       "OP_CARRIER_FL_NUM        int64\n",
       "ORIGIN                  object\n",
       "DEST                    object\n",
       "CRS_DEP_TIME             int64\n",
       "DEP_TIME               float64\n",
       "DEP_DELAY              float64\n",
       "TAXI_OUT               float64\n",
       "WHEELS_OFF             float64\n",
       "WHEELS_ON              float64\n",
       "TAXI_IN                float64\n",
       "CRS_ARR_TIME             int64\n",
       "ARR_TIME               float64\n",
       "ARR_DELAY              float64\n",
       "CANCELLED              float64\n",
       "CANCELLATION_CODE       object\n",
       "DIVERTED               float64\n",
       "CRS_ELAPSED_TIME       float64\n",
       "ACTUAL_ELAPSED_TIME    float64\n",
       "AIR_TIME               float64\n",
       "DISTANCE               float64\n",
       "CARRIER_DELAY          float64\n",
       "WEATHER_DELAY          float64\n",
       "NAS_DELAY              float64\n",
       "SECURITY_DELAY         float64\n",
       "LATE_AIRCRAFT_DELAY    float64\n",
       "Unnamed: 27            float64\n",
       "dtype: object"
      ]
     },
     "execution_count": 8,
     "metadata": {},
     "output_type": "execute_result"
    }
   ],
   "source": [
    "df.dtypes"
   ]
  },
  {
   "cell_type": "code",
   "execution_count": 4,
   "id": "1acb7e93",
   "metadata": {},
   "outputs": [],
   "source": [
    "pd.options.mode.chained_assignment = None"
   ]
  },
  {
   "cell_type": "code",
   "execution_count": 10,
   "id": "53780406",
   "metadata": {},
   "outputs": [
    {
     "data": {
      "text/plain": [
       "4.939717464950979"
      ]
     },
     "execution_count": 10,
     "metadata": {},
     "output_type": "execute_result"
    }
   ],
   "source": [
    "df['ARR_DELAY'].mean()"
   ]
  },
  {
   "cell_type": "code",
   "execution_count": 5,
   "id": "28bb83f0",
   "metadata": {},
   "outputs": [],
   "source": [
    "delayed = df[(df['ARR_DELAY'] > 0)]"
   ]
  },
  {
   "cell_type": "code",
   "execution_count": 6,
   "id": "d4d0869d",
   "metadata": {},
   "outputs": [
    {
     "data": {
      "text/plain": [
       "False"
      ]
     },
     "execution_count": 6,
     "metadata": {},
     "output_type": "execute_result"
    }
   ],
   "source": [
    "delayed['ARR_DELAY'].isnull().values.any()"
   ]
  },
  {
   "cell_type": "code",
   "execution_count": 12,
   "id": "c375d6d3",
   "metadata": {},
   "outputs": [
    {
     "name": "stdout",
     "output_type": "stream",
     "text": [
      "<class 'pandas.core.frame.DataFrame'>\n",
      "Int64Index: 10818009 entries, 0 to 30144613\n",
      "Data columns (total 28 columns):\n",
      " #   Column               Dtype  \n",
      "---  ------               -----  \n",
      " 0   FL_DATE              object \n",
      " 1   OP_CARRIER           object \n",
      " 2   OP_CARRIER_FL_NUM    int64  \n",
      " 3   ORIGIN               object \n",
      " 4   DEST                 object \n",
      " 5   CRS_DEP_TIME         int64  \n",
      " 6   DEP_TIME             float64\n",
      " 7   DEP_DELAY            float64\n",
      " 8   TAXI_OUT             float64\n",
      " 9   WHEELS_OFF           float64\n",
      " 10  WHEELS_ON            float64\n",
      " 11  TAXI_IN              float64\n",
      " 12  CRS_ARR_TIME         int64  \n",
      " 13  ARR_TIME             float64\n",
      " 14  ARR_DELAY            float64\n",
      " 15  CANCELLED            float64\n",
      " 16  CANCELLATION_CODE    object \n",
      " 17  DIVERTED             float64\n",
      " 18  CRS_ELAPSED_TIME     float64\n",
      " 19  ACTUAL_ELAPSED_TIME  float64\n",
      " 20  AIR_TIME             float64\n",
      " 21  DISTANCE             float64\n",
      " 22  CARRIER_DELAY        float64\n",
      " 23  WEATHER_DELAY        float64\n",
      " 24  NAS_DELAY            float64\n",
      " 25  SECURITY_DELAY       float64\n",
      " 26  LATE_AIRCRAFT_DELAY  float64\n",
      " 27  Unnamed: 27          float64\n",
      "dtypes: float64(20), int64(3), object(5)\n",
      "memory usage: 2.3+ GB\n"
     ]
    }
   ],
   "source": [
    "delayed.info()"
   ]
  },
  {
   "cell_type": "code",
   "execution_count": 13,
   "id": "1e550c88",
   "metadata": {},
   "outputs": [
    {
     "data": {
      "text/plain": [
       "35.02284070941335"
      ]
     },
     "execution_count": 13,
     "metadata": {},
     "output_type": "execute_result"
    }
   ],
   "source": [
    "delayed['ARR_DELAY'].mean()"
   ]
  },
  {
   "cell_type": "code",
   "execution_count": 14,
   "id": "3b6697fc",
   "metadata": {},
   "outputs": [
    {
     "data": {
      "text/plain": [
       "16.0"
      ]
     },
     "execution_count": 14,
     "metadata": {},
     "output_type": "execute_result"
    }
   ],
   "source": [
    "delayed['ARR_DELAY'].median()"
   ]
  },
  {
   "cell_type": "code",
   "execution_count": 6,
   "id": "37f901ac",
   "metadata": {},
   "outputs": [
    {
     "data": {
      "text/plain": [
       "59.14117328324837"
      ]
     },
     "execution_count": 6,
     "metadata": {},
     "output_type": "execute_result"
    }
   ],
   "source": [
    "delayed['ARR_DELAY'].std()"
   ]
  },
  {
   "cell_type": "code",
   "execution_count": 7,
   "id": "3a4efd47",
   "metadata": {},
   "outputs": [
    {
     "data": {
      "text/plain": [
       "3497.678377319211"
      ]
     },
     "execution_count": 7,
     "metadata": {},
     "output_type": "execute_result"
    }
   ],
   "source": [
    "delayed['ARR_DELAY'].var()"
   ]
  },
  {
   "cell_type": "code",
   "execution_count": 8,
   "id": "10ecb6e2",
   "metadata": {},
   "outputs": [
    {
     "data": {
      "text/plain": [
       "count    1.081801e+07\n",
       "mean     3.502284e+01\n",
       "std      5.914117e+01\n",
       "min      1.000000e+00\n",
       "25%      6.000000e+00\n",
       "50%      1.600000e+01\n",
       "75%      4.000000e+01\n",
       "max      2.692000e+03\n",
       "Name: ARR_DELAY, dtype: float64"
      ]
     },
     "execution_count": 8,
     "metadata": {},
     "output_type": "execute_result"
    }
   ],
   "source": [
    "delayed['ARR_DELAY'].describe()"
   ]
  },
  {
   "cell_type": "code",
   "execution_count": 10,
   "id": "093d913b",
   "metadata": {},
   "outputs": [
    {
     "data": {
      "text/plain": [
       "6.0"
      ]
     },
     "execution_count": 10,
     "metadata": {},
     "output_type": "execute_result"
    }
   ],
   "source": [
    "q1 = delayed['ARR_DELAY'].quantile(0.25)\n",
    "q1"
   ]
  },
  {
   "cell_type": "code",
   "execution_count": 12,
   "id": "62fbe875",
   "metadata": {},
   "outputs": [
    {
     "data": {
      "text/plain": [
       "40.0"
      ]
     },
     "execution_count": 12,
     "metadata": {},
     "output_type": "execute_result"
    }
   ],
   "source": [
    "q3 = delayed['ARR_DELAY'].quantile(0.75)\n",
    "q3"
   ]
  },
  {
   "cell_type": "code",
   "execution_count": 13,
   "id": "f55d59ca",
   "metadata": {},
   "outputs": [
    {
     "data": {
      "text/plain": [
       "34.0"
      ]
     },
     "execution_count": 13,
     "metadata": {},
     "output_type": "execute_result"
    }
   ],
   "source": [
    "IQR = q3-q1\n",
    "IQR"
   ]
  },
  {
   "cell_type": "code",
   "execution_count": 14,
   "id": "ea7ab82e",
   "metadata": {},
   "outputs": [
    {
     "data": {
      "text/plain": [
       "91.0"
      ]
     },
     "execution_count": 14,
     "metadata": {},
     "output_type": "execute_result"
    }
   ],
   "source": [
    "q3+1.5*IQR"
   ]
  },
  {
   "cell_type": "code",
   "execution_count": 69,
   "id": "61fd0f77",
   "metadata": {
    "scrolled": false
   },
   "outputs": [
    {
     "data": {
      "image/png": "[encoded data removed]",
      "text/plain": [
       "<Figure size 1008x576 with 1 Axes>"
      ]
     },
     "metadata": {
      "needs_background": "light"
     },
     "output_type": "display_data"
    }
   ],
   "source": [
    "plt.figure(figsize=(14, 8))\n",
    "plt.boxplot(delayed['ARR_DELAY'])\n",
    "plt.ylabel(\"Delays\",fontsize=14)\n",
    "plt.xlabel(\"Box plot\",fontsize=14)\n",
    "plt.title(\"Box plot of delays\",fontsize=18)\n",
    "plt.show()"
   ]
  },
  {
   "cell_type": "code",
   "execution_count": 73,
   "id": "43aba932",
   "metadata": {},
   "outputs": [
    {
     "data": {
      "text/plain": [
       "2692.0"
      ]
     },
     "execution_count": 73,
     "metadata": {},
     "output_type": "execute_result"
    }
   ],
   "source": [
    "delayed['ARR_DELAY'].max()"
   ]
  },
  {
   "cell_type": "code",
   "execution_count": 74,
   "id": "a0b52a37",
   "metadata": {
    "scrolled": true
   },
   "outputs": [
    {
     "data": {
      "text/plain": [
       "1.0"
      ]
     },
     "execution_count": 74,
     "metadata": {},
     "output_type": "execute_result"
    }
   ],
   "source": [
    "delayed['ARR_DELAY'].min()"
   ]
  },
  {
   "cell_type": "code",
   "execution_count": 75,
   "id": "b438963d",
   "metadata": {},
   "outputs": [
    {
     "data": {
      "text/plain": [
       "0    1.0\n",
       "Name: ARR_DELAY, dtype: float64"
      ]
     },
     "execution_count": 75,
     "metadata": {},
     "output_type": "execute_result"
    }
   ],
   "source": [
    "delayed['ARR_DELAY'].mode()"
   ]
  },
  {
   "cell_type": "code",
   "execution_count": 7,
   "id": "dd36c38e",
   "metadata": {},
   "outputs": [
    {
     "name": "stdout",
     "output_type": "stream",
     "text": [
      "6.606914535477173\n"
     ]
    }
   ],
   "source": [
    "print(skew(delayed['ARR_DELAY'], bias=False))"
   ]
  },
  {
   "cell_type": "code",
   "execution_count": 8,
   "id": "100c6aad",
   "metadata": {},
   "outputs": [
    {
     "name": "stdout",
     "output_type": "stream",
     "text": [
      "85.25799602961426\n"
     ]
    }
   ],
   "source": [
    "print(kurtosis(delayed['ARR_DELAY'], bias=False))"
   ]
  },
  {
   "cell_type": "code",
   "execution_count": 65,
   "id": "c17de8a9",
   "metadata": {},
   "outputs": [
    {
     "data": {
      "text/plain": [
       "Text(16.299999999999997, 0.5, 'Frequency')"
      ]
     },
     "execution_count": 65,
     "metadata": {},
     "output_type": "execute_result"
    },
    {
     "data": {
      "text/plain": [
       "<Figure size 1440x1008 with 0 Axes>"
      ]
     },
     "metadata": {},
     "output_type": "display_data"
    },
    {
     "data": {
      "image/png": "[encoded data removed]",
      "text/plain": [
       "<Figure size 360x360 with 1 Axes>"
      ]
     },
     "metadata": {
      "needs_background": "light"
     },
     "output_type": "display_data"
    }
   ],
   "source": [
    "plt.figure(figsize =(20, 14))\n",
    "sns.displot(delayed['ARR_DELAY'],kde=True,bins=100)\n",
    "plt.title('Distribution of delays', fontsize=18)\n",
    "plt.xlabel('Delays', fontsize=14)\n",
    "plt.ylabel('Frequency', fontsize=14)"
   ]
  },
  {
   "cell_type": "code",
   "execution_count": 53,
   "id": "698a256e",
   "metadata": {
    "scrolled": false
   },
   "outputs": [
    {
     "data": {
      "image/png": "[encoded data removed]",
      "text/plain": [
       "<Figure size 1008x576 with 1 Axes>"
      ]
     },
     "metadata": {
      "needs_background": "light"
     },
     "output_type": "display_data"
    }
   ],
   "source": [
    "plt.figure(figsize=(14, 8))\n",
    "plt.hist(delayed['ARR_DELAY'],100,color = \"red\")\n",
    "plt.xlabel(\"Delays\",fontsize=14)\n",
    "plt.ylabel(\"Count\",fontsize=14)\n",
    "plt.title(\"Histogram of delays\",fontsize=18)\n",
    "plt.show()"
   ]
  },
  {
   "cell_type": "code",
   "execution_count": 18,
   "id": "f3c8171c",
   "metadata": {},
   "outputs": [
    {
     "data": {
      "text/plain": [
       "0          2014-01-01\n",
       "3          2014-01-01\n",
       "4          2014-01-01\n",
       "5          2014-01-01\n",
       "6          2014-01-01\n",
       "              ...    \n",
       "30144604   2018-12-31\n",
       "30144608   2018-12-31\n",
       "30144611   2018-12-31\n",
       "30144612   2018-12-31\n",
       "30144613   2018-12-31\n",
       "Name: FL_DATE, Length: 10818009, dtype: datetime64[ns]"
      ]
     },
     "execution_count": 18,
     "metadata": {},
     "output_type": "execute_result"
    }
   ],
   "source": [
    "pd.to_datetime(delayed.FL_DATE)"
   ]
  },
  {
   "cell_type": "code",
   "execution_count": 19,
   "id": "e6ac5152",
   "metadata": {},
   "outputs": [],
   "source": [
    "delayed['year'] = pd.to_datetime(delayed['FL_DATE']).dt.year"
   ]
  },
  {
   "cell_type": "code",
   "execution_count": 20,
   "id": "7b348667",
   "metadata": {},
   "outputs": [],
   "source": [
    "year = delayed.groupby('year')"
   ]
  },
  {
   "cell_type": "code",
   "execution_count": 21,
   "id": "181d5ab6",
   "metadata": {},
   "outputs": [
    {
     "data": {
      "text/plain": [
       "year\n",
       "2014    32.533315\n",
       "2015    33.112990\n",
       "2016    34.811314\n",
       "2017    36.827919\n",
       "2018    37.730903\n",
       "Name: ARR_DELAY, dtype: float64"
      ]
     },
     "execution_count": 21,
     "metadata": {},
     "output_type": "execute_result"
    }
   ],
   "source": [
    "year['ARR_DELAY'].mean()"
   ]
  },
  {
   "cell_type": "code",
   "execution_count": 22,
   "id": "b39d2dcf",
   "metadata": {},
   "outputs": [
    {
     "data": {
      "text/plain": [
       "year\n",
       "2014    16.0\n",
       "2015    15.0\n",
       "2016    15.0\n",
       "2017    16.0\n",
       "2018    17.0\n",
       "Name: ARR_DELAY, dtype: float64"
      ]
     },
     "execution_count": 22,
     "metadata": {},
     "output_type": "execute_result"
    }
   ],
   "source": [
    "year['ARR_DELAY'].median()"
   ]
  },
  {
   "cell_type": "code",
   "execution_count": 23,
   "id": "9c94aa31",
   "metadata": {},
   "outputs": [],
   "source": [
    "delayed['quarter'] = pd.to_datetime(delayed['FL_DATE']).dt.quarter"
   ]
  },
  {
   "cell_type": "code",
   "execution_count": 24,
   "id": "f92092d0",
   "metadata": {},
   "outputs": [],
   "source": [
    "q = delayed.groupby('quarter')"
   ]
  },
  {
   "cell_type": "code",
   "execution_count": 25,
   "id": "9c5d6b56",
   "metadata": {},
   "outputs": [
    {
     "data": {
      "text/plain": [
       "quarter\n",
       "1    34.567073\n",
       "2    36.121014\n",
       "3    36.764263\n",
       "4    32.342876\n",
       "Name: ARR_DELAY, dtype: float64"
      ]
     },
     "execution_count": 25,
     "metadata": {},
     "output_type": "execute_result"
    }
   ],
   "source": [
    "q['ARR_DELAY'].mean()"
   ]
  },
  {
   "cell_type": "code",
   "execution_count": 26,
   "id": "5ad485ff",
   "metadata": {},
   "outputs": [
    {
     "data": {
      "text/plain": [
       "quarter\n",
       "1    16.0\n",
       "2    16.0\n",
       "3    16.0\n",
       "4    14.0\n",
       "Name: ARR_DELAY, dtype: float64"
      ]
     },
     "execution_count": 26,
     "metadata": {},
     "output_type": "execute_result"
    }
   ],
   "source": [
    "q['ARR_DELAY'].median()"
   ]
  },
  {
   "cell_type": "code",
   "execution_count": 27,
   "id": "7174d5e9",
   "metadata": {},
   "outputs": [],
   "source": [
    "delayed['month'] = pd.to_datetime(delayed['FL_DATE']).dt.month"
   ]
  },
  {
   "cell_type": "code",
   "execution_count": 28,
   "id": "1f0c6b43",
   "metadata": {},
   "outputs": [],
   "source": [
    "m = delayed.groupby('month')"
   ]
  },
  {
   "cell_type": "code",
   "execution_count": 29,
   "id": "51476cb8",
   "metadata": {},
   "outputs": [
    {
     "data": {
      "text/plain": [
       "month\n",
       "1     36.913761\n",
       "2     35.249568\n",
       "3     31.777449\n",
       "4     33.532315\n",
       "5     35.254657\n",
       "6     39.013072\n",
       "7     39.422309\n",
       "8     38.102170\n",
       "9     31.220680\n",
       "10    30.044539\n",
       "11    30.990321\n",
       "12    35.481216\n",
       "Name: ARR_DELAY, dtype: float64"
      ]
     },
     "execution_count": 29,
     "metadata": {},
     "output_type": "execute_result"
    }
   ],
   "source": [
    "m['ARR_DELAY'].mean()"
   ]
  },
  {
   "cell_type": "code",
   "execution_count": 30,
   "id": "2c385e0f",
   "metadata": {},
   "outputs": [
    {
     "data": {
      "text/plain": [
       "month\n",
       "1     17.0\n",
       "2     16.0\n",
       "3     14.0\n",
       "4     15.0\n",
       "5     16.0\n",
       "6     18.0\n",
       "7     18.0\n",
       "8     17.0\n",
       "9     13.0\n",
       "10    13.0\n",
       "11    14.0\n",
       "12    16.0\n",
       "Name: ARR_DELAY, dtype: float64"
      ]
     },
     "execution_count": 30,
     "metadata": {},
     "output_type": "execute_result"
    }
   ],
   "source": [
    "m['ARR_DELAY'].median()"
   ]
  },
  {
   "cell_type": "code",
   "execution_count": 31,
   "id": "919a15e6",
   "metadata": {},
   "outputs": [],
   "source": [
    "delayed['week'] = pd.to_datetime(delayed['FL_DATE']).dt.isocalendar().week"
   ]
  },
  {
   "cell_type": "code",
   "execution_count": 32,
   "id": "009b85f4",
   "metadata": {},
   "outputs": [],
   "source": [
    "week = delayed.groupby('week')"
   ]
  },
  {
   "cell_type": "code",
   "execution_count": 33,
   "id": "50a8a12d",
   "metadata": {},
   "outputs": [
    {
     "data": {
      "text/plain": [
       "week\n",
       "1     43.859830\n",
       "2     38.835682\n",
       "3     34.232887\n",
       "4     29.051040\n",
       "5     33.507721\n",
       "6     37.501299\n",
       "7     33.506829\n",
       "8     36.299539\n",
       "9     34.266430\n",
       "10    33.076359\n",
       "11    29.509792\n",
       "12    30.544093\n",
       "13    32.988161\n",
       "14    38.115220\n",
       "15    31.013350\n",
       "16    31.852789\n",
       "17    31.666932\n",
       "18    33.115073\n",
       "19    32.092136\n",
       "20    36.627021\n",
       "21    35.424387\n",
       "22    39.570790\n",
       "23    34.987621\n",
       "24    39.657571\n",
       "25    41.404876\n",
       "26    39.888646\n",
       "27    37.078610\n",
       "28    38.503232\n",
       "29    42.601867\n",
       "30    39.990028\n",
       "31    39.122892\n",
       "32    40.584091\n",
       "33    40.330116\n",
       "34    34.153956\n",
       "35    31.673168\n",
       "36    34.694416\n",
       "37    29.349937\n",
       "38    31.427931\n",
       "39    29.214403\n",
       "40    29.775473\n",
       "41    33.008870\n",
       "42    28.630224\n",
       "43    29.373448\n",
       "44    28.514655\n",
       "45    28.380560\n",
       "46    31.876110\n",
       "47    32.248591\n",
       "48    32.791189\n",
       "49    31.051261\n",
       "50    36.334160\n",
       "51    33.833942\n",
       "52    38.286567\n",
       "53    42.306061\n",
       "Name: ARR_DELAY, dtype: float64"
      ]
     },
     "execution_count": 33,
     "metadata": {},
     "output_type": "execute_result"
    }
   ],
   "source": [
    "week['ARR_DELAY'].mean()"
   ]
  },
  {
   "cell_type": "code",
   "execution_count": 34,
   "id": "c271af73",
   "metadata": {},
   "outputs": [
    {
     "data": {
      "text/plain": [
       "week\n",
       "1     22.0\n",
       "2     19.0\n",
       "3     15.0\n",
       "4     13.0\n",
       "5     15.0\n",
       "6     17.0\n",
       "7     15.0\n",
       "8     17.0\n",
       "9     16.0\n",
       "10    15.0\n",
       "11    14.0\n",
       "12    14.0\n",
       "13    15.0\n",
       "14    16.0\n",
       "15    14.0\n",
       "16    14.0\n",
       "17    14.0\n",
       "18    15.0\n",
       "19    14.0\n",
       "20    17.0\n",
       "21    16.0\n",
       "22    17.0\n",
       "23    16.0\n",
       "24    19.0\n",
       "25    19.0\n",
       "26    18.0\n",
       "27    17.0\n",
       "28    18.0\n",
       "29    20.0\n",
       "30    19.0\n",
       "31    18.0\n",
       "32    18.0\n",
       "33    19.0\n",
       "34    16.0\n",
       "35    14.0\n",
       "36    14.0\n",
       "37    13.0\n",
       "38    14.0\n",
       "39    13.0\n",
       "40    14.0\n",
       "41    15.0\n",
       "42    13.0\n",
       "43    12.0\n",
       "44    12.0\n",
       "45    13.0\n",
       "46    14.0\n",
       "47    14.0\n",
       "48    14.0\n",
       "49    14.0\n",
       "50    16.0\n",
       "51    16.0\n",
       "52    19.0\n",
       "53    20.0\n",
       "Name: ARR_DELAY, dtype: float64"
      ]
     },
     "execution_count": 34,
     "metadata": {},
     "output_type": "execute_result"
    }
   ],
   "source": [
    "week['ARR_DELAY'].median()"
   ]
  },
  {
   "cell_type": "code",
   "execution_count": 35,
   "id": "eb65413f",
   "metadata": {},
   "outputs": [],
   "source": [
    "delayed['day'] = pd.to_datetime(delayed['FL_DATE']).dt.day_name()"
   ]
  },
  {
   "cell_type": "code",
   "execution_count": 36,
   "id": "4e2cf687",
   "metadata": {},
   "outputs": [],
   "source": [
    "d = delayed.groupby('day')"
   ]
  },
  {
   "cell_type": "code",
   "execution_count": 37,
   "id": "f39db701",
   "metadata": {},
   "outputs": [
    {
     "data": {
      "text/plain": [
       "day\n",
       "Friday       35.421995\n",
       "Monday       36.820152\n",
       "Saturday     33.732775\n",
       "Sunday       35.141819\n",
       "Thursday     35.092346\n",
       "Tuesday      34.802574\n",
       "Wednesday    33.667016\n",
       "Name: ARR_DELAY, dtype: float64"
      ]
     },
     "execution_count": 37,
     "metadata": {},
     "output_type": "execute_result"
    }
   ],
   "source": [
    "d['ARR_DELAY'].mean()"
   ]
  },
  {
   "cell_type": "code",
   "execution_count": 38,
   "id": "cc20f6b5",
   "metadata": {},
   "outputs": [
    {
     "data": {
      "text/plain": [
       "day\n",
       "Friday       16.0\n",
       "Monday       16.0\n",
       "Saturday     15.0\n",
       "Sunday       16.0\n",
       "Thursday     16.0\n",
       "Tuesday      15.0\n",
       "Wednesday    15.0\n",
       "Name: ARR_DELAY, dtype: float64"
      ]
     },
     "execution_count": 38,
     "metadata": {},
     "output_type": "execute_result"
    }
   ],
   "source": [
    "d['ARR_DELAY'].median()"
   ]
  },
  {
   "cell_type": "code",
   "execution_count": 39,
   "id": "218c926d",
   "metadata": {},
   "outputs": [],
   "source": [
    "carrier = delayed.groupby('OP_CARRIER')"
   ]
  },
  {
   "cell_type": "code",
   "execution_count": 40,
   "id": "0eb9e0b0",
   "metadata": {},
   "outputs": [
    {
     "data": {
      "text/plain": [
       "OP_CARRIER\n",
       "9E    49.168585\n",
       "AA    34.914349\n",
       "AS    23.765133\n",
       "B6    42.831371\n",
       "DL    34.703174\n",
       "EV    42.412237\n",
       "F9    42.942410\n",
       "FL    27.582114\n",
       "G4    44.930737\n",
       "HA    15.783381\n",
       "MQ    35.997076\n",
       "NK    42.005006\n",
       "OH    37.544017\n",
       "OO    38.474860\n",
       "UA    40.079881\n",
       "US    26.485547\n",
       "VX    34.365621\n",
       "WN    28.680188\n",
       "YV    41.810773\n",
       "YX    38.987170\n",
       "Name: ARR_DELAY, dtype: float64"
      ]
     },
     "execution_count": 40,
     "metadata": {},
     "output_type": "execute_result"
    }
   ],
   "source": [
    "carrier['ARR_DELAY'].mean()"
   ]
  },
  {
   "cell_type": "code",
   "execution_count": 41,
   "id": "0805f6e1",
   "metadata": {},
   "outputs": [
    {
     "data": {
      "text/plain": [
       "OP_CARRIER\n",
       "9E    22.0\n",
       "AA    16.0\n",
       "AS    11.0\n",
       "B6    22.0\n",
       "DL    14.0\n",
       "EV    19.0\n",
       "F9    20.0\n",
       "FL    14.0\n",
       "G4    19.0\n",
       "HA     7.0\n",
       "MQ    18.0\n",
       "NK    20.0\n",
       "OH    16.0\n",
       "OO    15.0\n",
       "UA    18.0\n",
       "US    13.0\n",
       "VX    16.0\n",
       "WN    15.0\n",
       "YV    17.0\n",
       "YX    18.0\n",
       "Name: ARR_DELAY, dtype: float64"
      ]
     },
     "execution_count": 41,
     "metadata": {},
     "output_type": "execute_result"
    }
   ],
   "source": [
    "carrier['ARR_DELAY'].median()"
   ]
  },
  {
   "cell_type": "code",
   "execution_count": 42,
   "id": "38cf0421",
   "metadata": {},
   "outputs": [],
   "source": [
    "origin = delayed.groupby('ORIGIN')"
   ]
  },
  {
   "cell_type": "code",
   "execution_count": 43,
   "id": "dffaad47",
   "metadata": {},
   "outputs": [
    {
     "data": {
      "text/plain": [
       "ORIGIN\n",
       "ABE    43.745103\n",
       "ABI    38.197782\n",
       "ABQ    30.997935\n",
       "ABR    37.383290\n",
       "ABY    45.464407\n",
       "         ...    \n",
       "WYS    21.236239\n",
       "XNA    45.758030\n",
       "YAK    29.803178\n",
       "YNG    75.000000\n",
       "YUM    26.423834\n",
       "Name: ARR_DELAY, Length: 369, dtype: float64"
      ]
     },
     "execution_count": 43,
     "metadata": {},
     "output_type": "execute_result"
    }
   ],
   "source": [
    "origin['ARR_DELAY'].mean()"
   ]
  },
  {
   "cell_type": "code",
   "execution_count": 44,
   "id": "6e0776be",
   "metadata": {
    "scrolled": true
   },
   "outputs": [
    {
     "data": {
      "text/plain": [
       "ORIGIN\n",
       "ABE    14.0\n",
       "ABI    15.0\n",
       "ABQ    14.0\n",
       "ABR    11.0\n",
       "ABY    17.0\n",
       "       ... \n",
       "WYS     7.5\n",
       "XNA    18.0\n",
       "YAK    13.0\n",
       "YNG    75.0\n",
       "YUM     8.0\n",
       "Name: ARR_DELAY, Length: 369, dtype: float64"
      ]
     },
     "execution_count": 44,
     "metadata": {},
     "output_type": "execute_result"
    }
   ],
   "source": [
    "origin['ARR_DELAY'].median()"
   ]
  },
  {
   "cell_type": "code",
   "execution_count": 45,
   "id": "37c8dbeb",
   "metadata": {},
   "outputs": [],
   "source": [
    "destination = delayed.groupby('DEST')"
   ]
  },
  {
   "cell_type": "code",
   "execution_count": 46,
   "id": "f862381d",
   "metadata": {},
   "outputs": [
    {
     "data": {
      "text/plain": [
       "DEST\n",
       "ABE    36.623104\n",
       "ABI    30.427040\n",
       "ABQ    29.208071\n",
       "ABR    37.555041\n",
       "ABY    41.089851\n",
       "         ...    \n",
       "WYS    11.785953\n",
       "XNA    36.012730\n",
       "YAK    24.230622\n",
       "YNG    59.500000\n",
       "YUM    22.858075\n",
       "Name: ARR_DELAY, Length: 367, dtype: float64"
      ]
     },
     "execution_count": 46,
     "metadata": {},
     "output_type": "execute_result"
    }
   ],
   "source": [
    "destination['ARR_DELAY'].mean()"
   ]
  },
  {
   "cell_type": "code",
   "execution_count": 47,
   "id": "fb3f9a30",
   "metadata": {},
   "outputs": [
    {
     "data": {
      "text/plain": [
       "DEST\n",
       "ABE    17.0\n",
       "ABI    15.0\n",
       "ABQ    15.0\n",
       "ABR    12.0\n",
       "ABY    20.0\n",
       "       ... \n",
       "WYS     7.0\n",
       "XNA    17.0\n",
       "YAK    12.0\n",
       "YNG    59.5\n",
       "YUM     9.0\n",
       "Name: ARR_DELAY, Length: 367, dtype: float64"
      ]
     },
     "execution_count": 47,
     "metadata": {},
     "output_type": "execute_result"
    }
   ],
   "source": [
    "destination['ARR_DELAY'].median()"
   ]
  },
  {
   "cell_type": "code",
   "execution_count": 7,
   "id": "70611f10",
   "metadata": {},
   "outputs": [],
   "source": [
    "dist = distfit()"
   ]
  },
  {
   "cell_type": "code",
   "execution_count": 8,
   "id": "52bba721",
   "metadata": {},
   "outputs": [
    {
     "name": "stdout",
     "output_type": "stream",
     "text": [
      "[distfit] >fit..\n",
      "[distfit] >transform..\n",
      "[distfit] >[norm      ] [0.17 sec] [RSS: 8.14308e-05] [loc=35.023 scale=59.141]\n",
      "[distfit] >[expon     ] [0.04 sec] [RSS: 4.06624e-06] [loc=1.000 scale=34.023]\n",
      "[distfit] >[pareto    ] [383. sec] [RSS: 0.000106507] [loc=-1.509 scale=2.509]\n",
      "[distfit] >[dweibull  ] [750. sec] [RSS: 9.09422e-05] [loc=8.000 scale=18.465]\n",
      "[distfit] >[t         ] [215. sec] [RSS: 3.35927e-05] [loc=12.139 scale=10.839]\n",
      "[distfit] >[genextreme] [786. sec] [RSS: 4.01437e-05] [loc=9.325 scale=10.940]\n",
      "[distfit] >[gamma     ] [280. sec] [RSS: 0.000235915] [loc=1.000 scale=1.582]\n",
      "[distfit] >[lognorm   ] [198. sec] [RSS: 3.81541e-05] [loc=0.440 scale=14.092]\n",
      "[distfit] >[beta      ] [568. sec] [RSS: 1.96127e-05] [loc=1.000 scale=13050.819]\n",
      "[distfit] >[uniform   ] [0.04 sec] [RSS: 0.000229011] [loc=1.000 scale=2691.000]\n",
      "[distfit] >[loggamma  ] [256. sec] [RSS: 9.56081e-05] [loc=-29641.607 scale=3706.893]\n",
      "[distfit] >Compute confidence interval [parametric]\n"
     ]
    },
    {
     "data": {
      "text/plain": [
       "{'model': {'distr': <scipy.stats._continuous_distns.expon_gen at 0x23fc2f317f0>,\n",
       "  'stats': 'RSS',\n",
       "  'params': (1.0, 34.02284070941335),\n",
       "  'name': 'expon',\n",
       "  'model': <scipy.stats._distn_infrastructure.rv_frozen at 0x23fb3f25340>,\n",
       "  'score': 4.066236268622947e-06,\n",
       "  'loc': 1.0,\n",
       "  'scale': 34.02284070941335,\n",
       "  'arg': (),\n",
       "  'CII_min_alpha': 2.7451435844086776,\n",
       "  'CII_max_alpha': 102.9233219511761},\n",
       " 'summary':          distr     score  LLE           loc         scale  \\\n",
       " 0        expon  0.000004  NaN           1.0     34.022841   \n",
       " 1         beta   0.00002  NaN           1.0  13050.818757   \n",
       " 2            t  0.000034  NaN     12.139009     10.839287   \n",
       " 3      lognorm  0.000038  NaN      0.440323     14.091716   \n",
       " 4   genextreme   0.00004  NaN      9.325384     10.940288   \n",
       " 5         norm  0.000081  NaN     35.022841     59.141171   \n",
       " 6     dweibull  0.000091  NaN           8.0     18.464972   \n",
       " 7     loggamma  0.000096  NaN -29641.606801   3706.893431   \n",
       " 8       pareto  0.000107  NaN     -1.509304      2.509304   \n",
       " 9      uniform  0.000229  NaN           1.0        2691.0   \n",
       " 10       gamma  0.000236  NaN           1.0       1.58187   \n",
       " \n",
       "                                         arg  \n",
       " 0                                        ()  \n",
       " 1   (0.7045000019895142, 435.3193460076307)  \n",
       " 2                     (1.0660733627662644,)  \n",
       " 3                      (1.443619379168957,)  \n",
       " 4                    (-0.9319526900371198,)  \n",
       " 5                                        ()  \n",
       " 6                     (0.6222469718747663,)  \n",
       " 7                     (2998.5406006581197,)  \n",
       " 8                     (0.5111564849569867,)  \n",
       " 9                                        ()  \n",
       " 10                   (0.11532613406695949,)  ,\n",
       " 'histdata': (array([1.52008902e-02, 2.05067542e-03, 7.25707111e-04, 3.03128388e-04,\n",
       "         1.36490131e-04, 6.46897405e-05, 3.40383729e-05, 1.83502864e-05,\n",
       "         1.06797156e-05, 6.66237000e-06, 4.49482400e-06, 3.40074571e-06,\n",
       "         2.77212302e-06, 2.66563502e-06, 2.59521554e-06, 2.54884173e-06,\n",
       "         2.20017942e-06, 1.99235607e-06, 1.52003028e-06, 1.23148216e-06,\n",
       "         1.04426939e-06, 7.17935205e-07, 5.20417146e-07, 3.52097409e-07,\n",
       "         2.95418314e-07, 2.33586574e-07, 1.78625027e-07, 1.20228384e-07,\n",
       "         9.79002552e-08, 3.77860634e-08, 4.63738051e-08, 1.54579350e-08,\n",
       "         1.03052900e-08, 1.03052900e-08, 8.58774168e-09, 5.15264501e-09,\n",
       "         6.87019335e-09, 5.15264501e-09, 0.00000000e+00, 5.15264501e-09,\n",
       "         1.71754834e-09, 0.00000000e+00, 0.00000000e+00, 0.00000000e+00,\n",
       "         0.00000000e+00, 5.15264501e-09, 0.00000000e+00, 0.00000000e+00,\n",
       "         0.00000000e+00, 1.71754834e-09]),\n",
       "  array([  27.91,   81.73,  135.55,  189.37,  243.19,  297.01,  350.83,\n",
       "          404.65,  458.47,  512.29,  566.11,  619.93,  673.75,  727.57,\n",
       "          781.39,  835.21,  889.03,  942.85,  996.67, 1050.49, 1104.31,\n",
       "         1158.13, 1211.95, 1265.77, 1319.59, 1373.41, 1427.23, 1481.05,\n",
       "         1534.87, 1588.69, 1642.51, 1696.33, 1750.15, 1803.97, 1857.79,\n",
       "         1911.61, 1965.43, 2019.25, 2073.07, 2126.89, 2180.71, 2234.53,\n",
       "         2288.35, 2342.17, 2395.99, 2449.81, 2503.63, 2557.45, 2611.27,\n",
       "         2665.09])),\n",
       " 'size': 10818009,\n",
       " 'alpha': 0.05,\n",
       " 'stats': 'RSS',\n",
       " 'bins': 50,\n",
       " 'bound': 'both',\n",
       " 'distr': 'popular',\n",
       " 'method': 'parametric',\n",
       " 'multtest': 'fdr_bh',\n",
       " 'n_perm': 10000,\n",
       " 'smooth': None,\n",
       " 'weighted': True,\n",
       " 'f': 1.5}"
      ]
     },
     "execution_count": 8,
     "metadata": {},
     "output_type": "execute_result"
    }
   ],
   "source": [
    "dist.fit_transform(delayed['ARR_DELAY'])"
   ]
  },
  {
   "cell_type": "code",
   "execution_count": 9,
   "id": "d7e8d805",
   "metadata": {},
   "outputs": [
    {
     "name": "stdout",
     "output_type": "stream",
     "text": [
      "         distr     score  LLE           loc         scale  \\\n",
      "0        expon  0.000004  NaN           1.0     34.022841   \n",
      "1         beta   0.00002  NaN           1.0  13050.818757   \n",
      "2            t  0.000034  NaN     12.139009     10.839287   \n",
      "3      lognorm  0.000038  NaN      0.440323     14.091716   \n",
      "4   genextreme   0.00004  NaN      9.325384     10.940288   \n",
      "5         norm  0.000081  NaN     35.022841     59.141171   \n",
      "6     dweibull  0.000091  NaN           8.0     18.464972   \n",
      "7     loggamma  0.000096  NaN -29641.606801   3706.893431   \n",
      "8       pareto  0.000107  NaN     -1.509304      2.509304   \n",
      "9      uniform  0.000229  NaN           1.0        2691.0   \n",
      "10       gamma  0.000236  NaN           1.0       1.58187   \n",
      "\n",
      "                                        arg  \n",
      "0                                        ()  \n",
      "1   (0.7045000019895142, 435.3193460076307)  \n",
      "2                     (1.0660733627662644,)  \n",
      "3                      (1.443619379168957,)  \n",
      "4                    (-0.9319526900371198,)  \n",
      "5                                        ()  \n",
      "6                     (0.6222469718747663,)  \n",
      "7                     (2998.5406006581197,)  \n",
      "8                     (0.5111564849569867,)  \n",
      "9                                        ()  \n",
      "10                   (0.11532613406695949,)  \n"
     ]
    }
   ],
   "source": [
    "print(dist.summary)"
   ]
  },
  {
   "cell_type": "code",
   "execution_count": 10,
   "id": "7656283a",
   "metadata": {},
   "outputs": [
    {
     "name": "stdout",
     "output_type": "stream",
     "text": [
      "[distfit] >plot..\n"
     ]
    },
    {
     "data": {
      "text/plain": [
       "(<Figure size 720x576 with 1 Axes>,\n",
       " <AxesSubplot:title={'center':'\\nexpon\\nRSS(loc=1, scale=34.0228)'}, xlabel='Values', ylabel='Frequency'>)"
      ]
     },
     "execution_count": 10,
     "metadata": {},
     "output_type": "execute_result"
    },
    {
     "data": {
      "image/png": "[encoded data removed]",
      "text/plain": [
       "<Figure size 720x576 with 1 Axes>"
      ]
     },
     "metadata": {
      "needs_background": "light"
     },
     "output_type": "display_data"
    }
   ],
   "source": [
    "dist.plot()"
   ]
  },
  {
   "cell_type": "code",
   "execution_count": 12,
   "id": "4197952d",
   "metadata": {
    "scrolled": false
   },
   "outputs": [
    {
     "name": "stdout",
     "output_type": "stream",
     "text": [
      "[distfit] >plot summary..\n"
     ]
    },
    {
     "data": {
      "text/plain": [
       "(<Figure size 1080x576 with 1 Axes>,\n",
       " <AxesSubplot:title={'center':'Best fit: expon'}, xlabel='Distribution name', ylabel='RSS (lower is better)'>)"
      ]
     },
     "execution_count": 12,
     "metadata": {},
     "output_type": "execute_result"
    },
    {
     "data": {
      "image/png": "[encoded data removed]",
      "text/plain": [
       "<Figure size 1080x576 with 1 Axes>"
      ]
     },
     "metadata": {
      "needs_background": "light"
     },
     "output_type": "display_data"
    }
   ],
   "source": [
    "dist.plot_summary()"
   ]
  },
  {
   "cell_type": "code",
   "execution_count": 7,
   "id": "ade429d5",
   "metadata": {},
   "outputs": [
    {
     "data": {
      "text/html": [
       "<div>\n",
       "<style scoped>\n",
       "    .dataframe tbody tr th:only-of-type {\n",
       "        vertical-align: middle;\n",
       "    }\n",
       "\n",
       "    .dataframe tbody tr th {\n",
       "        vertical-align: top;\n",
       "    }\n",
       "\n",
       "    .dataframe thead th {\n",
       "        text-align: right;\n",
       "    }\n",
       "</style>\n",
       "<table border=\"1\" class=\"dataframe\">\n",
       "  <thead>\n",
       "    <tr style=\"text-align: right;\">\n",
       "      <th></th>\n",
       "      <th>OP_CARRIER_FL_NUM</th>\n",
       "      <th>CRS_DEP_TIME</th>\n",
       "      <th>DEP_TIME</th>\n",
       "      <th>DEP_DELAY</th>\n",
       "      <th>TAXI_OUT</th>\n",
       "      <th>WHEELS_OFF</th>\n",
       "      <th>WHEELS_ON</th>\n",
       "      <th>TAXI_IN</th>\n",
       "      <th>CRS_ARR_TIME</th>\n",
       "      <th>ARR_TIME</th>\n",
       "      <th>...</th>\n",
       "      <th>CRS_ELAPSED_TIME</th>\n",
       "      <th>ACTUAL_ELAPSED_TIME</th>\n",
       "      <th>AIR_TIME</th>\n",
       "      <th>DISTANCE</th>\n",
       "      <th>CARRIER_DELAY</th>\n",
       "      <th>WEATHER_DELAY</th>\n",
       "      <th>NAS_DELAY</th>\n",
       "      <th>SECURITY_DELAY</th>\n",
       "      <th>LATE_AIRCRAFT_DELAY</th>\n",
       "      <th>Unnamed: 27</th>\n",
       "    </tr>\n",
       "  </thead>\n",
       "  <tbody>\n",
       "    <tr>\n",
       "      <th>OP_CARRIER_FL_NUM</th>\n",
       "      <td>1.000000</td>\n",
       "      <td>-0.020121</td>\n",
       "      <td>-0.001920</td>\n",
       "      <td>0.022495</td>\n",
       "      <td>0.058948</td>\n",
       "      <td>0.005781</td>\n",
       "      <td>0.000665</td>\n",
       "      <td>-0.033137</td>\n",
       "      <td>-0.022084</td>\n",
       "      <td>0.005629</td>\n",
       "      <td>...</td>\n",
       "      <td>-0.303808</td>\n",
       "      <td>-0.293560</td>\n",
       "      <td>-0.310557</td>\n",
       "      <td>-0.322042</td>\n",
       "      <td>0.020565</td>\n",
       "      <td>0.007311</td>\n",
       "      <td>-0.020399</td>\n",
       "      <td>-0.004781</td>\n",
       "      <td>0.039487</td>\n",
       "      <td>NaN</td>\n",
       "    </tr>\n",
       "    <tr>\n",
       "      <th>CRS_DEP_TIME</th>\n",
       "      <td>-0.020121</td>\n",
       "      <td>1.000000</td>\n",
       "      <td>0.901576</td>\n",
       "      <td>0.099729</td>\n",
       "      <td>-0.068669</td>\n",
       "      <td>0.863193</td>\n",
       "      <td>0.462515</td>\n",
       "      <td>-0.069166</td>\n",
       "      <td>0.663008</td>\n",
       "      <td>0.420231</td>\n",
       "      <td>...</td>\n",
       "      <td>-0.040652</td>\n",
       "      <td>-0.065685</td>\n",
       "      <td>-0.049280</td>\n",
       "      <td>-0.034858</td>\n",
       "      <td>-0.070912</td>\n",
       "      <td>-0.004411</td>\n",
       "      <td>-0.069093</td>\n",
       "      <td>-0.003669</td>\n",
       "      <td>0.146787</td>\n",
       "      <td>NaN</td>\n",
       "    </tr>\n",
       "    <tr>\n",
       "      <th>DEP_TIME</th>\n",
       "      <td>-0.001920</td>\n",
       "      <td>0.901576</td>\n",
       "      <td>1.000000</td>\n",
       "      <td>0.155715</td>\n",
       "      <td>-0.068778</td>\n",
       "      <td>0.958356</td>\n",
       "      <td>0.519999</td>\n",
       "      <td>-0.068939</td>\n",
       "      <td>0.671583</td>\n",
       "      <td>0.476072</td>\n",
       "      <td>...</td>\n",
       "      <td>-0.055268</td>\n",
       "      <td>-0.082489</td>\n",
       "      <td>-0.066689</td>\n",
       "      <td>-0.055986</td>\n",
       "      <td>-0.039068</td>\n",
       "      <td>-0.010989</td>\n",
       "      <td>-0.041829</td>\n",
       "      <td>-0.003635</td>\n",
       "      <td>0.173795</td>\n",
       "      <td>NaN</td>\n",
       "    </tr>\n",
       "    <tr>\n",
       "      <th>DEP_DELAY</th>\n",
       "      <td>0.022495</td>\n",
       "      <td>0.099729</td>\n",
       "      <td>0.155715</td>\n",
       "      <td>1.000000</td>\n",
       "      <td>-0.069590</td>\n",
       "      <td>0.136675</td>\n",
       "      <td>-0.000383</td>\n",
       "      <td>-0.055622</td>\n",
       "      <td>0.080518</td>\n",
       "      <td>-0.008784</td>\n",
       "      <td>...</td>\n",
       "      <td>0.011242</td>\n",
       "      <td>-0.035864</td>\n",
       "      <td>-0.019643</td>\n",
       "      <td>0.000033</td>\n",
       "      <td>0.642506</td>\n",
       "      <td>0.263349</td>\n",
       "      <td>0.144510</td>\n",
       "      <td>0.019072</td>\n",
       "      <td>0.528729</td>\n",
       "      <td>NaN</td>\n",
       "    </tr>\n",
       "    <tr>\n",
       "      <th>TAXI_OUT</th>\n",
       "      <td>0.058948</td>\n",
       "      <td>-0.068669</td>\n",
       "      <td>-0.068778</td>\n",
       "      <td>-0.069590</td>\n",
       "      <td>1.000000</td>\n",
       "      <td>-0.032195</td>\n",
       "      <td>-0.018138</td>\n",
       "      <td>-0.023730</td>\n",
       "      <td>-0.033264</td>\n",
       "      <td>-0.018140</td>\n",
       "      <td>...</td>\n",
       "      <td>0.086405</td>\n",
       "      <td>0.207672</td>\n",
       "      <td>0.048733</td>\n",
       "      <td>0.037790</td>\n",
       "      <td>-0.060083</td>\n",
       "      <td>0.047133</td>\n",
       "      <td>0.331720</td>\n",
       "      <td>-0.005767</td>\n",
       "      <td>-0.121476</td>\n",
       "      <td>NaN</td>\n",
       "    </tr>\n",
       "    <tr>\n",
       "      <th>WHEELS_OFF</th>\n",
       "      <td>0.005781</td>\n",
       "      <td>0.863193</td>\n",
       "      <td>0.958356</td>\n",
       "      <td>0.136675</td>\n",
       "      <td>-0.032195</td>\n",
       "      <td>1.000000</td>\n",
       "      <td>0.551013</td>\n",
       "      <td>-0.065833</td>\n",
       "      <td>0.678957</td>\n",
       "      <td>0.506791</td>\n",
       "      <td>...</td>\n",
       "      <td>-0.060426</td>\n",
       "      <td>-0.081961</td>\n",
       "      <td>-0.072639</td>\n",
       "      <td>-0.065126</td>\n",
       "      <td>-0.046883</td>\n",
       "      <td>-0.014005</td>\n",
       "      <td>-0.025299</td>\n",
       "      <td>-0.004460</td>\n",
       "      <td>0.146632</td>\n",
       "      <td>NaN</td>\n",
       "    </tr>\n",
       "    <tr>\n",
       "      <th>WHEELS_ON</th>\n",
       "      <td>0.000665</td>\n",
       "      <td>0.462515</td>\n",
       "      <td>0.519999</td>\n",
       "      <td>-0.000383</td>\n",
       "      <td>-0.018138</td>\n",
       "      <td>0.551013</td>\n",
       "      <td>1.000000</td>\n",
       "      <td>-0.004849</td>\n",
       "      <td>0.745108</td>\n",
       "      <td>0.946618</td>\n",
       "      <td>...</td>\n",
       "      <td>-0.006685</td>\n",
       "      <td>-0.013629</td>\n",
       "      <td>-0.010552</td>\n",
       "      <td>-0.013967</td>\n",
       "      <td>-0.067216</td>\n",
       "      <td>-0.024665</td>\n",
       "      <td>0.005552</td>\n",
       "      <td>-0.005671</td>\n",
       "      <td>-0.011480</td>\n",
       "      <td>NaN</td>\n",
       "    </tr>\n",
       "    <tr>\n",
       "      <th>TAXI_IN</th>\n",
       "      <td>-0.033137</td>\n",
       "      <td>-0.069166</td>\n",
       "      <td>-0.068939</td>\n",
       "      <td>-0.055622</td>\n",
       "      <td>-0.023730</td>\n",
       "      <td>-0.065833</td>\n",
       "      <td>-0.004849</td>\n",
       "      <td>1.000000</td>\n",
       "      <td>-0.023048</td>\n",
       "      <td>-0.001014</td>\n",
       "      <td>...</td>\n",
       "      <td>0.108363</td>\n",
       "      <td>0.179177</td>\n",
       "      <td>0.086096</td>\n",
       "      <td>0.082219</td>\n",
       "      <td>-0.042914</td>\n",
       "      <td>-0.001373</td>\n",
       "      <td>0.218475</td>\n",
       "      <td>-0.003989</td>\n",
       "      <td>-0.057107</td>\n",
       "      <td>NaN</td>\n",
       "    </tr>\n",
       "    <tr>\n",
       "      <th>CRS_ARR_TIME</th>\n",
       "      <td>-0.022084</td>\n",
       "      <td>0.663008</td>\n",
       "      <td>0.671583</td>\n",
       "      <td>0.080518</td>\n",
       "      <td>-0.033264</td>\n",
       "      <td>0.678957</td>\n",
       "      <td>0.745108</td>\n",
       "      <td>-0.023048</td>\n",
       "      <td>1.000000</td>\n",
       "      <td>0.703023</td>\n",
       "      <td>...</td>\n",
       "      <td>0.014117</td>\n",
       "      <td>-0.002248</td>\n",
       "      <td>0.005672</td>\n",
       "      <td>0.009205</td>\n",
       "      <td>-0.062787</td>\n",
       "      <td>-0.002010</td>\n",
       "      <td>-0.017032</td>\n",
       "      <td>-0.003366</td>\n",
       "      <td>0.106496</td>\n",
       "      <td>NaN</td>\n",
       "    </tr>\n",
       "    <tr>\n",
       "      <th>ARR_TIME</th>\n",
       "      <td>0.005629</td>\n",
       "      <td>0.420231</td>\n",
       "      <td>0.476072</td>\n",
       "      <td>-0.008784</td>\n",
       "      <td>-0.018140</td>\n",
       "      <td>0.506791</td>\n",
       "      <td>0.946618</td>\n",
       "      <td>-0.001014</td>\n",
       "      <td>0.703023</td>\n",
       "      <td>1.000000</td>\n",
       "      <td>...</td>\n",
       "      <td>-0.011829</td>\n",
       "      <td>-0.017848</td>\n",
       "      <td>-0.015318</td>\n",
       "      <td>-0.019970</td>\n",
       "      <td>-0.066837</td>\n",
       "      <td>-0.024867</td>\n",
       "      <td>0.003514</td>\n",
       "      <td>-0.005607</td>\n",
       "      <td>-0.018929</td>\n",
       "      <td>NaN</td>\n",
       "    </tr>\n",
       "    <tr>\n",
       "      <th>ARR_DELAY</th>\n",
       "      <td>0.028017</td>\n",
       "      <td>0.068721</td>\n",
       "      <td>0.122990</td>\n",
       "      <td>0.966437</td>\n",
       "      <td>0.088968</td>\n",
       "      <td>0.110696</td>\n",
       "      <td>-0.009625</td>\n",
       "      <td>0.038190</td>\n",
       "      <td>0.061791</td>\n",
       "      <td>-0.017195</td>\n",
       "      <td>...</td>\n",
       "      <td>0.012212</td>\n",
       "      <td>0.017258</td>\n",
       "      <td>-0.001096</td>\n",
       "      <td>-0.000382</td>\n",
       "      <td>0.635208</td>\n",
       "      <td>0.279490</td>\n",
       "      <td>0.268341</td>\n",
       "      <td>0.017435</td>\n",
       "      <td>0.496999</td>\n",
       "      <td>NaN</td>\n",
       "    </tr>\n",
       "    <tr>\n",
       "      <th>CANCELLED</th>\n",
       "      <td>NaN</td>\n",
       "      <td>NaN</td>\n",
       "      <td>NaN</td>\n",
       "      <td>NaN</td>\n",
       "      <td>NaN</td>\n",
       "      <td>NaN</td>\n",
       "      <td>NaN</td>\n",
       "      <td>NaN</td>\n",
       "      <td>NaN</td>\n",
       "      <td>NaN</td>\n",
       "      <td>...</td>\n",
       "      <td>NaN</td>\n",
       "      <td>NaN</td>\n",
       "      <td>NaN</td>\n",
       "      <td>NaN</td>\n",
       "      <td>NaN</td>\n",
       "      <td>NaN</td>\n",
       "      <td>NaN</td>\n",
       "      <td>NaN</td>\n",
       "      <td>NaN</td>\n",
       "      <td>NaN</td>\n",
       "    </tr>\n",
       "    <tr>\n",
       "      <th>DIVERTED</th>\n",
       "      <td>NaN</td>\n",
       "      <td>NaN</td>\n",
       "      <td>NaN</td>\n",
       "      <td>NaN</td>\n",
       "      <td>NaN</td>\n",
       "      <td>NaN</td>\n",
       "      <td>NaN</td>\n",
       "      <td>NaN</td>\n",
       "      <td>NaN</td>\n",
       "      <td>NaN</td>\n",
       "      <td>...</td>\n",
       "      <td>NaN</td>\n",
       "      <td>NaN</td>\n",
       "      <td>NaN</td>\n",
       "      <td>NaN</td>\n",
       "      <td>NaN</td>\n",
       "      <td>NaN</td>\n",
       "      <td>NaN</td>\n",
       "      <td>NaN</td>\n",
       "      <td>NaN</td>\n",
       "      <td>NaN</td>\n",
       "    </tr>\n",
       "    <tr>\n",
       "      <th>CRS_ELAPSED_TIME</th>\n",
       "      <td>-0.303808</td>\n",
       "      <td>-0.040652</td>\n",
       "      <td>-0.055268</td>\n",
       "      <td>0.011242</td>\n",
       "      <td>0.086405</td>\n",
       "      <td>-0.060426</td>\n",
       "      <td>-0.006685</td>\n",
       "      <td>0.108363</td>\n",
       "      <td>0.014117</td>\n",
       "      <td>-0.011829</td>\n",
       "      <td>...</td>\n",
       "      <td>1.000000</td>\n",
       "      <td>0.979283</td>\n",
       "      <td>0.988430</td>\n",
       "      <td>0.984158</td>\n",
       "      <td>0.015693</td>\n",
       "      <td>-0.002903</td>\n",
       "      <td>0.050045</td>\n",
       "      <td>0.007937</td>\n",
       "      <td>-0.054414</td>\n",
       "      <td>NaN</td>\n",
       "    </tr>\n",
       "    <tr>\n",
       "      <th>ACTUAL_ELAPSED_TIME</th>\n",
       "      <td>-0.293560</td>\n",
       "      <td>-0.065685</td>\n",
       "      <td>-0.082489</td>\n",
       "      <td>-0.035864</td>\n",
       "      <td>0.207672</td>\n",
       "      <td>-0.081961</td>\n",
       "      <td>-0.013629</td>\n",
       "      <td>0.179177</td>\n",
       "      <td>-0.002248</td>\n",
       "      <td>-0.017848</td>\n",
       "      <td>...</td>\n",
       "      <td>0.979283</td>\n",
       "      <td>1.000000</td>\n",
       "      <td>0.982089</td>\n",
       "      <td>0.962948</td>\n",
       "      <td>-0.015294</td>\n",
       "      <td>0.002348</td>\n",
       "      <td>0.156908</td>\n",
       "      <td>0.005441</td>\n",
       "      <td>-0.101202</td>\n",
       "      <td>NaN</td>\n",
       "    </tr>\n",
       "    <tr>\n",
       "      <th>AIR_TIME</th>\n",
       "      <td>-0.310557</td>\n",
       "      <td>-0.049280</td>\n",
       "      <td>-0.066689</td>\n",
       "      <td>-0.019643</td>\n",
       "      <td>0.048733</td>\n",
       "      <td>-0.072639</td>\n",
       "      <td>-0.010552</td>\n",
       "      <td>0.086096</td>\n",
       "      <td>0.005672</td>\n",
       "      <td>-0.015318</td>\n",
       "      <td>...</td>\n",
       "      <td>0.988430</td>\n",
       "      <td>0.982089</td>\n",
       "      <td>1.000000</td>\n",
       "      <td>0.982424</td>\n",
       "      <td>0.001184</td>\n",
       "      <td>-0.006881</td>\n",
       "      <td>0.071536</td>\n",
       "      <td>0.007333</td>\n",
       "      <td>-0.074715</td>\n",
       "      <td>NaN</td>\n",
       "    </tr>\n",
       "    <tr>\n",
       "      <th>DISTANCE</th>\n",
       "      <td>-0.322042</td>\n",
       "      <td>-0.034858</td>\n",
       "      <td>-0.055986</td>\n",
       "      <td>0.000033</td>\n",
       "      <td>0.037790</td>\n",
       "      <td>-0.065126</td>\n",
       "      <td>-0.013967</td>\n",
       "      <td>0.082219</td>\n",
       "      <td>0.009205</td>\n",
       "      <td>-0.019970</td>\n",
       "      <td>...</td>\n",
       "      <td>0.984158</td>\n",
       "      <td>0.962948</td>\n",
       "      <td>0.982424</td>\n",
       "      <td>1.000000</td>\n",
       "      <td>0.014183</td>\n",
       "      <td>-0.008560</td>\n",
       "      <td>0.032805</td>\n",
       "      <td>0.008440</td>\n",
       "      <td>-0.054956</td>\n",
       "      <td>NaN</td>\n",
       "    </tr>\n",
       "    <tr>\n",
       "      <th>CARRIER_DELAY</th>\n",
       "      <td>0.020565</td>\n",
       "      <td>-0.070912</td>\n",
       "      <td>-0.039068</td>\n",
       "      <td>0.642506</td>\n",
       "      <td>-0.060083</td>\n",
       "      <td>-0.046883</td>\n",
       "      <td>-0.067216</td>\n",
       "      <td>-0.042914</td>\n",
       "      <td>-0.062787</td>\n",
       "      <td>-0.066837</td>\n",
       "      <td>...</td>\n",
       "      <td>0.015693</td>\n",
       "      <td>-0.015294</td>\n",
       "      <td>0.001184</td>\n",
       "      <td>0.014183</td>\n",
       "      <td>1.000000</td>\n",
       "      <td>-0.038723</td>\n",
       "      <td>-0.105722</td>\n",
       "      <td>-0.009684</td>\n",
       "      <td>-0.088374</td>\n",
       "      <td>NaN</td>\n",
       "    </tr>\n",
       "    <tr>\n",
       "      <th>WEATHER_DELAY</th>\n",
       "      <td>0.007311</td>\n",
       "      <td>-0.004411</td>\n",
       "      <td>-0.010989</td>\n",
       "      <td>0.263349</td>\n",
       "      <td>0.047133</td>\n",
       "      <td>-0.014005</td>\n",
       "      <td>-0.024665</td>\n",
       "      <td>-0.001373</td>\n",
       "      <td>-0.002010</td>\n",
       "      <td>-0.024867</td>\n",
       "      <td>...</td>\n",
       "      <td>-0.002903</td>\n",
       "      <td>0.002348</td>\n",
       "      <td>-0.006881</td>\n",
       "      <td>-0.008560</td>\n",
       "      <td>-0.038723</td>\n",
       "      <td>1.000000</td>\n",
       "      <td>-0.008415</td>\n",
       "      <td>-0.003663</td>\n",
       "      <td>-0.020190</td>\n",
       "      <td>NaN</td>\n",
       "    </tr>\n",
       "    <tr>\n",
       "      <th>NAS_DELAY</th>\n",
       "      <td>-0.020399</td>\n",
       "      <td>-0.069093</td>\n",
       "      <td>-0.041829</td>\n",
       "      <td>0.144510</td>\n",
       "      <td>0.331720</td>\n",
       "      <td>-0.025299</td>\n",
       "      <td>0.005552</td>\n",
       "      <td>0.218475</td>\n",
       "      <td>-0.017032</td>\n",
       "      <td>0.003514</td>\n",
       "      <td>...</td>\n",
       "      <td>0.050045</td>\n",
       "      <td>0.156908</td>\n",
       "      <td>0.071536</td>\n",
       "      <td>0.032805</td>\n",
       "      <td>-0.105722</td>\n",
       "      <td>-0.008415</td>\n",
       "      <td>1.000000</td>\n",
       "      <td>-0.009387</td>\n",
       "      <td>-0.140147</td>\n",
       "      <td>NaN</td>\n",
       "    </tr>\n",
       "    <tr>\n",
       "      <th>SECURITY_DELAY</th>\n",
       "      <td>-0.004781</td>\n",
       "      <td>-0.003669</td>\n",
       "      <td>-0.003635</td>\n",
       "      <td>0.019072</td>\n",
       "      <td>-0.005767</td>\n",
       "      <td>-0.004460</td>\n",
       "      <td>-0.005671</td>\n",
       "      <td>-0.003989</td>\n",
       "      <td>-0.003366</td>\n",
       "      <td>-0.005607</td>\n",
       "      <td>...</td>\n",
       "      <td>0.007937</td>\n",
       "      <td>0.005441</td>\n",
       "      <td>0.007333</td>\n",
       "      <td>0.008440</td>\n",
       "      <td>-0.009684</td>\n",
       "      <td>-0.003663</td>\n",
       "      <td>-0.009387</td>\n",
       "      <td>1.000000</td>\n",
       "      <td>-0.008307</td>\n",
       "      <td>NaN</td>\n",
       "    </tr>\n",
       "    <tr>\n",
       "      <th>LATE_AIRCRAFT_DELAY</th>\n",
       "      <td>0.039487</td>\n",
       "      <td>0.146787</td>\n",
       "      <td>0.173795</td>\n",
       "      <td>0.528729</td>\n",
       "      <td>-0.121476</td>\n",
       "      <td>0.146632</td>\n",
       "      <td>-0.011480</td>\n",
       "      <td>-0.057107</td>\n",
       "      <td>0.106496</td>\n",
       "      <td>-0.018929</td>\n",
       "      <td>...</td>\n",
       "      <td>-0.054414</td>\n",
       "      <td>-0.101202</td>\n",
       "      <td>-0.074715</td>\n",
       "      <td>-0.054956</td>\n",
       "      <td>-0.088374</td>\n",
       "      <td>-0.020190</td>\n",
       "      <td>-0.140147</td>\n",
       "      <td>-0.008307</td>\n",
       "      <td>1.000000</td>\n",
       "      <td>NaN</td>\n",
       "    </tr>\n",
       "    <tr>\n",
       "      <th>Unnamed: 27</th>\n",
       "      <td>NaN</td>\n",
       "      <td>NaN</td>\n",
       "      <td>NaN</td>\n",
       "      <td>NaN</td>\n",
       "      <td>NaN</td>\n",
       "      <td>NaN</td>\n",
       "      <td>NaN</td>\n",
       "      <td>NaN</td>\n",
       "      <td>NaN</td>\n",
       "      <td>NaN</td>\n",
       "      <td>...</td>\n",
       "      <td>NaN</td>\n",
       "      <td>NaN</td>\n",
       "      <td>NaN</td>\n",
       "      <td>NaN</td>\n",
       "      <td>NaN</td>\n",
       "      <td>NaN</td>\n",
       "      <td>NaN</td>\n",
       "      <td>NaN</td>\n",
       "      <td>NaN</td>\n",
       "      <td>NaN</td>\n",
       "    </tr>\n",
       "  </tbody>\n",
       "</table>\n",
       "<p>23 rows × 23 columns</p>\n",
       "</div>"
      ],
      "text/plain": [
       "                     OP_CARRIER_FL_NUM  CRS_DEP_TIME  DEP_TIME  DEP_DELAY  \\\n",
       "OP_CARRIER_FL_NUM             1.000000     -0.020121 -0.001920   0.022495   \n",
       "CRS_DEP_TIME                 -0.020121      1.000000  0.901576   0.099729   \n",
       "DEP_TIME                     -0.001920      0.901576  1.000000   0.155715   \n",
       "DEP_DELAY                     0.022495      0.099729  0.155715   1.000000   \n",
       "TAXI_OUT                      0.058948     -0.068669 -0.068778  -0.069590   \n",
       "WHEELS_OFF                    0.005781      0.863193  0.958356   0.136675   \n",
       "WHEELS_ON                     0.000665      0.462515  0.519999  -0.000383   \n",
       "TAXI_IN                      -0.033137     -0.069166 -0.068939  -0.055622   \n",
       "CRS_ARR_TIME                 -0.022084      0.663008  0.671583   0.080518   \n",
       "ARR_TIME                      0.005629      0.420231  0.476072  -0.008784   \n",
       "ARR_DELAY                     0.028017      0.068721  0.122990   0.966437   \n",
       "CANCELLED                          NaN           NaN       NaN        NaN   \n",
       "DIVERTED                           NaN           NaN       NaN        NaN   \n",
       "CRS_ELAPSED_TIME             -0.303808     -0.040652 -0.055268   0.011242   \n",
       "ACTUAL_ELAPSED_TIME          -0.293560     -0.065685 -0.082489  -0.035864   \n",
       "AIR_TIME                     -0.310557     -0.049280 -0.066689  -0.019643   \n",
       "DISTANCE                     -0.322042     -0.034858 -0.055986   0.000033   \n",
       "CARRIER_DELAY                 0.020565     -0.070912 -0.039068   0.642506   \n",
       "WEATHER_DELAY                 0.007311     -0.004411 -0.010989   0.263349   \n",
       "NAS_DELAY                    -0.020399     -0.069093 -0.041829   0.144510   \n",
       "SECURITY_DELAY               -0.004781     -0.003669 -0.003635   0.019072   \n",
       "LATE_AIRCRAFT_DELAY           0.039487      0.146787  0.173795   0.528729   \n",
       "Unnamed: 27                        NaN           NaN       NaN        NaN   \n",
       "\n",
       "                     TAXI_OUT  WHEELS_OFF  WHEELS_ON   TAXI_IN  CRS_ARR_TIME  \\\n",
       "OP_CARRIER_FL_NUM    0.058948    0.005781   0.000665 -0.033137     -0.022084   \n",
       "CRS_DEP_TIME        -0.068669    0.863193   0.462515 -0.069166      0.663008   \n",
       "DEP_TIME            -0.068778    0.958356   0.519999 -0.068939      0.671583   \n",
       "DEP_DELAY           -0.069590    0.136675  -0.000383 -0.055622      0.080518   \n",
       "TAXI_OUT             1.000000   -0.032195  -0.018138 -0.023730     -0.033264   \n",
       "WHEELS_OFF          -0.032195    1.000000   0.551013 -0.065833      0.678957   \n",
       "WHEELS_ON           -0.018138    0.551013   1.000000 -0.004849      0.745108   \n",
       "TAXI_IN             -0.023730   -0.065833  -0.004849  1.000000     -0.023048   \n",
       "CRS_ARR_TIME        -0.033264    0.678957   0.745108 -0.023048      1.000000   \n",
       "ARR_TIME            -0.018140    0.506791   0.946618 -0.001014      0.703023   \n",
       "ARR_DELAY            0.088968    0.110696  -0.009625  0.038190      0.061791   \n",
       "CANCELLED                 NaN         NaN        NaN       NaN           NaN   \n",
       "DIVERTED                  NaN         NaN        NaN       NaN           NaN   \n",
       "CRS_ELAPSED_TIME     0.086405   -0.060426  -0.006685  0.108363      0.014117   \n",
       "ACTUAL_ELAPSED_TIME  0.207672   -0.081961  -0.013629  0.179177     -0.002248   \n",
       "AIR_TIME             0.048733   -0.072639  -0.010552  0.086096      0.005672   \n",
       "DISTANCE             0.037790   -0.065126  -0.013967  0.082219      0.009205   \n",
       "CARRIER_DELAY       -0.060083   -0.046883  -0.067216 -0.042914     -0.062787   \n",
       "WEATHER_DELAY        0.047133   -0.014005  -0.024665 -0.001373     -0.002010   \n",
       "NAS_DELAY            0.331720   -0.025299   0.005552  0.218475     -0.017032   \n",
       "SECURITY_DELAY      -0.005767   -0.004460  -0.005671 -0.003989     -0.003366   \n",
       "LATE_AIRCRAFT_DELAY -0.121476    0.146632  -0.011480 -0.057107      0.106496   \n",
       "Unnamed: 27               NaN         NaN        NaN       NaN           NaN   \n",
       "\n",
       "                     ARR_TIME  ...  CRS_ELAPSED_TIME  ACTUAL_ELAPSED_TIME  \\\n",
       "OP_CARRIER_FL_NUM    0.005629  ...         -0.303808            -0.293560   \n",
       "CRS_DEP_TIME         0.420231  ...         -0.040652            -0.065685   \n",
       "DEP_TIME             0.476072  ...         -0.055268            -0.082489   \n",
       "DEP_DELAY           -0.008784  ...          0.011242            -0.035864   \n",
       "TAXI_OUT            -0.018140  ...          0.086405             0.207672   \n",
       "WHEELS_OFF           0.506791  ...         -0.060426            -0.081961   \n",
       "WHEELS_ON            0.946618  ...         -0.006685            -0.013629   \n",
       "TAXI_IN             -0.001014  ...          0.108363             0.179177   \n",
       "CRS_ARR_TIME         0.703023  ...          0.014117            -0.002248   \n",
       "ARR_TIME             1.000000  ...         -0.011829            -0.017848   \n",
       "ARR_DELAY           -0.017195  ...          0.012212             0.017258   \n",
       "CANCELLED                 NaN  ...               NaN                  NaN   \n",
       "DIVERTED                  NaN  ...               NaN                  NaN   \n",
       "CRS_ELAPSED_TIME    -0.011829  ...          1.000000             0.979283   \n",
       "ACTUAL_ELAPSED_TIME -0.017848  ...          0.979283             1.000000   \n",
       "AIR_TIME            -0.015318  ...          0.988430             0.982089   \n",
       "DISTANCE            -0.019970  ...          0.984158             0.962948   \n",
       "CARRIER_DELAY       -0.066837  ...          0.015693            -0.015294   \n",
       "WEATHER_DELAY       -0.024867  ...         -0.002903             0.002348   \n",
       "NAS_DELAY            0.003514  ...          0.050045             0.156908   \n",
       "SECURITY_DELAY      -0.005607  ...          0.007937             0.005441   \n",
       "LATE_AIRCRAFT_DELAY -0.018929  ...         -0.054414            -0.101202   \n",
       "Unnamed: 27               NaN  ...               NaN                  NaN   \n",
       "\n",
       "                     AIR_TIME  DISTANCE  CARRIER_DELAY  WEATHER_DELAY  \\\n",
       "OP_CARRIER_FL_NUM   -0.310557 -0.322042       0.020565       0.007311   \n",
       "CRS_DEP_TIME        -0.049280 -0.034858      -0.070912      -0.004411   \n",
       "DEP_TIME            -0.066689 -0.055986      -0.039068      -0.010989   \n",
       "DEP_DELAY           -0.019643  0.000033       0.642506       0.263349   \n",
       "TAXI_OUT             0.048733  0.037790      -0.060083       0.047133   \n",
       "WHEELS_OFF          -0.072639 -0.065126      -0.046883      -0.014005   \n",
       "WHEELS_ON           -0.010552 -0.013967      -0.067216      -0.024665   \n",
       "TAXI_IN              0.086096  0.082219      -0.042914      -0.001373   \n",
       "CRS_ARR_TIME         0.005672  0.009205      -0.062787      -0.002010   \n",
       "ARR_TIME            -0.015318 -0.019970      -0.066837      -0.024867   \n",
       "ARR_DELAY           -0.001096 -0.000382       0.635208       0.279490   \n",
       "CANCELLED                 NaN       NaN            NaN            NaN   \n",
       "DIVERTED                  NaN       NaN            NaN            NaN   \n",
       "CRS_ELAPSED_TIME     0.988430  0.984158       0.015693      -0.002903   \n",
       "ACTUAL_ELAPSED_TIME  0.982089  0.962948      -0.015294       0.002348   \n",
       "AIR_TIME             1.000000  0.982424       0.001184      -0.006881   \n",
       "DISTANCE             0.982424  1.000000       0.014183      -0.008560   \n",
       "CARRIER_DELAY        0.001184  0.014183       1.000000      -0.038723   \n",
       "WEATHER_DELAY       -0.006881 -0.008560      -0.038723       1.000000   \n",
       "NAS_DELAY            0.071536  0.032805      -0.105722      -0.008415   \n",
       "SECURITY_DELAY       0.007333  0.008440      -0.009684      -0.003663   \n",
       "LATE_AIRCRAFT_DELAY -0.074715 -0.054956      -0.088374      -0.020190   \n",
       "Unnamed: 27               NaN       NaN            NaN            NaN   \n",
       "\n",
       "                     NAS_DELAY  SECURITY_DELAY  LATE_AIRCRAFT_DELAY  \\\n",
       "OP_CARRIER_FL_NUM    -0.020399       -0.004781             0.039487   \n",
       "CRS_DEP_TIME         -0.069093       -0.003669             0.146787   \n",
       "DEP_TIME             -0.041829       -0.003635             0.173795   \n",
       "DEP_DELAY             0.144510        0.019072             0.528729   \n",
       "TAXI_OUT              0.331720       -0.005767            -0.121476   \n",
       "WHEELS_OFF           -0.025299       -0.004460             0.146632   \n",
       "WHEELS_ON             0.005552       -0.005671            -0.011480   \n",
       "TAXI_IN               0.218475       -0.003989            -0.057107   \n",
       "CRS_ARR_TIME         -0.017032       -0.003366             0.106496   \n",
       "ARR_TIME              0.003514       -0.005607            -0.018929   \n",
       "ARR_DELAY             0.268341        0.017435             0.496999   \n",
       "CANCELLED                  NaN             NaN                  NaN   \n",
       "DIVERTED                   NaN             NaN                  NaN   \n",
       "CRS_ELAPSED_TIME      0.050045        0.007937            -0.054414   \n",
       "ACTUAL_ELAPSED_TIME   0.156908        0.005441            -0.101202   \n",
       "AIR_TIME              0.071536        0.007333            -0.074715   \n",
       "DISTANCE              0.032805        0.008440            -0.054956   \n",
       "CARRIER_DELAY        -0.105722       -0.009684            -0.088374   \n",
       "WEATHER_DELAY        -0.008415       -0.003663            -0.020190   \n",
       "NAS_DELAY             1.000000       -0.009387            -0.140147   \n",
       "SECURITY_DELAY       -0.009387        1.000000            -0.008307   \n",
       "LATE_AIRCRAFT_DELAY  -0.140147       -0.008307             1.000000   \n",
       "Unnamed: 27                NaN             NaN                  NaN   \n",
       "\n",
       "                     Unnamed: 27  \n",
       "OP_CARRIER_FL_NUM            NaN  \n",
       "CRS_DEP_TIME                 NaN  \n",
       "DEP_TIME                     NaN  \n",
       "DEP_DELAY                    NaN  \n",
       "TAXI_OUT                     NaN  \n",
       "WHEELS_OFF                   NaN  \n",
       "WHEELS_ON                    NaN  \n",
       "TAXI_IN                      NaN  \n",
       "CRS_ARR_TIME                 NaN  \n",
       "ARR_TIME                     NaN  \n",
       "ARR_DELAY                    NaN  \n",
       "CANCELLED                    NaN  \n",
       "DIVERTED                     NaN  \n",
       "CRS_ELAPSED_TIME             NaN  \n",
       "ACTUAL_ELAPSED_TIME          NaN  \n",
       "AIR_TIME                     NaN  \n",
       "DISTANCE                     NaN  \n",
       "CARRIER_DELAY                NaN  \n",
       "WEATHER_DELAY                NaN  \n",
       "NAS_DELAY                    NaN  \n",
       "SECURITY_DELAY               NaN  \n",
       "LATE_AIRCRAFT_DELAY          NaN  \n",
       "Unnamed: 27                  NaN  \n",
       "\n",
       "[23 rows x 23 columns]"
      ]
     },
     "execution_count": 7,
     "metadata": {},
     "output_type": "execute_result"
    }
   ],
   "source": [
    "delayed.corr()"
   ]
  },
  {
   "cell_type": "code",
   "execution_count": 6,
   "id": "5574a01b",
   "metadata": {},
   "outputs": [],
   "source": [
    "lm = LinearRegression()"
   ]
  },
  {
   "cell_type": "code",
   "execution_count": 7,
   "id": "82423f40",
   "metadata": {},
   "outputs": [
    {
     "data": {
      "text/html": [
       "<div>\n",
       "<style scoped>\n",
       "    .dataframe tbody tr th:only-of-type {\n",
       "        vertical-align: middle;\n",
       "    }\n",
       "\n",
       "    .dataframe tbody tr th {\n",
       "        vertical-align: top;\n",
       "    }\n",
       "\n",
       "    .dataframe thead th {\n",
       "        text-align: right;\n",
       "    }\n",
       "</style>\n",
       "<table border=\"1\" class=\"dataframe\">\n",
       "  <thead>\n",
       "    <tr style=\"text-align: right;\">\n",
       "      <th></th>\n",
       "      <th>FL_DATE</th>\n",
       "      <th>OP_CARRIER</th>\n",
       "      <th>OP_CARRIER_FL_NUM</th>\n",
       "      <th>ORIGIN</th>\n",
       "      <th>DEST</th>\n",
       "      <th>CRS_DEP_TIME</th>\n",
       "      <th>DEP_TIME</th>\n",
       "      <th>DEP_DELAY</th>\n",
       "      <th>TAXI_OUT</th>\n",
       "      <th>WHEELS_OFF</th>\n",
       "      <th>...</th>\n",
       "      <th>CRS_ELAPSED_TIME</th>\n",
       "      <th>ACTUAL_ELAPSED_TIME</th>\n",
       "      <th>AIR_TIME</th>\n",
       "      <th>DISTANCE</th>\n",
       "      <th>CARRIER_DELAY</th>\n",
       "      <th>WEATHER_DELAY</th>\n",
       "      <th>NAS_DELAY</th>\n",
       "      <th>SECURITY_DELAY</th>\n",
       "      <th>LATE_AIRCRAFT_DELAY</th>\n",
       "      <th>Unnamed: 27</th>\n",
       "    </tr>\n",
       "  </thead>\n",
       "  <tbody>\n",
       "    <tr>\n",
       "      <th>0</th>\n",
       "      <td>2014-01-01</td>\n",
       "      <td>AA</td>\n",
       "      <td>2377</td>\n",
       "      <td>ICT</td>\n",
       "      <td>DFW</td>\n",
       "      <td>1135</td>\n",
       "      <td>1144.0</td>\n",
       "      <td>9.0</td>\n",
       "      <td>12.0</td>\n",
       "      <td>1156.0</td>\n",
       "      <td>...</td>\n",
       "      <td>85.0</td>\n",
       "      <td>78.0</td>\n",
       "      <td>57.0</td>\n",
       "      <td>328.0</td>\n",
       "      <td>NaN</td>\n",
       "      <td>NaN</td>\n",
       "      <td>NaN</td>\n",
       "      <td>NaN</td>\n",
       "      <td>NaN</td>\n",
       "      <td>NaN</td>\n",
       "    </tr>\n",
       "    <tr>\n",
       "      <th>3</th>\n",
       "      <td>2014-01-01</td>\n",
       "      <td>EV</td>\n",
       "      <td>2502</td>\n",
       "      <td>CRW</td>\n",
       "      <td>DFW</td>\n",
       "      <td>1655</td>\n",
       "      <td>1805.0</td>\n",
       "      <td>70.0</td>\n",
       "      <td>6.0</td>\n",
       "      <td>1811.0</td>\n",
       "      <td>...</td>\n",
       "      <td>185.0</td>\n",
       "      <td>180.0</td>\n",
       "      <td>150.0</td>\n",
       "      <td>946.0</td>\n",
       "      <td>0.0</td>\n",
       "      <td>0.0</td>\n",
       "      <td>0.0</td>\n",
       "      <td>0.0</td>\n",
       "      <td>65.0</td>\n",
       "      <td>NaN</td>\n",
       "    </tr>\n",
       "    <tr>\n",
       "      <th>4</th>\n",
       "      <td>2014-01-01</td>\n",
       "      <td>EV</td>\n",
       "      <td>2502</td>\n",
       "      <td>DFW</td>\n",
       "      <td>CRW</td>\n",
       "      <td>1320</td>\n",
       "      <td>1440.0</td>\n",
       "      <td>80.0</td>\n",
       "      <td>9.0</td>\n",
       "      <td>1449.0</td>\n",
       "      <td>...</td>\n",
       "      <td>125.0</td>\n",
       "      <td>115.0</td>\n",
       "      <td>101.0</td>\n",
       "      <td>946.0</td>\n",
       "      <td>6.0</td>\n",
       "      <td>0.0</td>\n",
       "      <td>0.0</td>\n",
       "      <td>0.0</td>\n",
       "      <td>64.0</td>\n",
       "      <td>NaN</td>\n",
       "    </tr>\n",
       "    <tr>\n",
       "      <th>5</th>\n",
       "      <td>2014-01-01</td>\n",
       "      <td>EV</td>\n",
       "      <td>2503</td>\n",
       "      <td>AMA</td>\n",
       "      <td>DFW</td>\n",
       "      <td>1925</td>\n",
       "      <td>1909.0</td>\n",
       "      <td>-16.0</td>\n",
       "      <td>8.0</td>\n",
       "      <td>1917.0</td>\n",
       "      <td>...</td>\n",
       "      <td>65.0</td>\n",
       "      <td>104.0</td>\n",
       "      <td>43.0</td>\n",
       "      <td>312.0</td>\n",
       "      <td>0.0</td>\n",
       "      <td>0.0</td>\n",
       "      <td>23.0</td>\n",
       "      <td>0.0</td>\n",
       "      <td>0.0</td>\n",
       "      <td>NaN</td>\n",
       "    </tr>\n",
       "    <tr>\n",
       "      <th>6</th>\n",
       "      <td>2014-01-01</td>\n",
       "      <td>EV</td>\n",
       "      <td>2503</td>\n",
       "      <td>DFW</td>\n",
       "      <td>AMA</td>\n",
       "      <td>1740</td>\n",
       "      <td>1740.0</td>\n",
       "      <td>0.0</td>\n",
       "      <td>14.0</td>\n",
       "      <td>1754.0</td>\n",
       "      <td>...</td>\n",
       "      <td>70.0</td>\n",
       "      <td>73.0</td>\n",
       "      <td>54.0</td>\n",
       "      <td>312.0</td>\n",
       "      <td>NaN</td>\n",
       "      <td>NaN</td>\n",
       "      <td>NaN</td>\n",
       "      <td>NaN</td>\n",
       "      <td>NaN</td>\n",
       "      <td>NaN</td>\n",
       "    </tr>\n",
       "    <tr>\n",
       "      <th>...</th>\n",
       "      <td>...</td>\n",
       "      <td>...</td>\n",
       "      <td>...</td>\n",
       "      <td>...</td>\n",
       "      <td>...</td>\n",
       "      <td>...</td>\n",
       "      <td>...</td>\n",
       "      <td>...</td>\n",
       "      <td>...</td>\n",
       "      <td>...</td>\n",
       "      <td>...</td>\n",
       "      <td>...</td>\n",
       "      <td>...</td>\n",
       "      <td>...</td>\n",
       "      <td>...</td>\n",
       "      <td>...</td>\n",
       "      <td>...</td>\n",
       "      <td>...</td>\n",
       "      <td>...</td>\n",
       "      <td>...</td>\n",
       "      <td>...</td>\n",
       "    </tr>\n",
       "    <tr>\n",
       "      <th>30144604</th>\n",
       "      <td>2018-12-31</td>\n",
       "      <td>AA</td>\n",
       "      <td>1811</td>\n",
       "      <td>CLT</td>\n",
       "      <td>TPA</td>\n",
       "      <td>1644</td>\n",
       "      <td>1639.0</td>\n",
       "      <td>-5.0</td>\n",
       "      <td>40.0</td>\n",
       "      <td>1719.0</td>\n",
       "      <td>...</td>\n",
       "      <td>106.0</td>\n",
       "      <td>120.0</td>\n",
       "      <td>77.0</td>\n",
       "      <td>507.0</td>\n",
       "      <td>NaN</td>\n",
       "      <td>NaN</td>\n",
       "      <td>NaN</td>\n",
       "      <td>NaN</td>\n",
       "      <td>NaN</td>\n",
       "      <td>NaN</td>\n",
       "    </tr>\n",
       "    <tr>\n",
       "      <th>30144608</th>\n",
       "      <td>2018-12-31</td>\n",
       "      <td>AA</td>\n",
       "      <td>1814</td>\n",
       "      <td>DFW</td>\n",
       "      <td>PHL</td>\n",
       "      <td>1955</td>\n",
       "      <td>2026.0</td>\n",
       "      <td>31.0</td>\n",
       "      <td>12.0</td>\n",
       "      <td>2038.0</td>\n",
       "      <td>...</td>\n",
       "      <td>182.0</td>\n",
       "      <td>160.0</td>\n",
       "      <td>142.0</td>\n",
       "      <td>1303.0</td>\n",
       "      <td>NaN</td>\n",
       "      <td>NaN</td>\n",
       "      <td>NaN</td>\n",
       "      <td>NaN</td>\n",
       "      <td>NaN</td>\n",
       "      <td>NaN</td>\n",
       "    </tr>\n",
       "    <tr>\n",
       "      <th>30144611</th>\n",
       "      <td>2018-12-31</td>\n",
       "      <td>AA</td>\n",
       "      <td>1816</td>\n",
       "      <td>CLT</td>\n",
       "      <td>DFW</td>\n",
       "      <td>1751</td>\n",
       "      <td>1757.0</td>\n",
       "      <td>6.0</td>\n",
       "      <td>18.0</td>\n",
       "      <td>1815.0</td>\n",
       "      <td>...</td>\n",
       "      <td>181.0</td>\n",
       "      <td>176.0</td>\n",
       "      <td>148.0</td>\n",
       "      <td>936.0</td>\n",
       "      <td>NaN</td>\n",
       "      <td>NaN</td>\n",
       "      <td>NaN</td>\n",
       "      <td>NaN</td>\n",
       "      <td>NaN</td>\n",
       "      <td>NaN</td>\n",
       "    </tr>\n",
       "    <tr>\n",
       "      <th>30144612</th>\n",
       "      <td>2018-12-31</td>\n",
       "      <td>AA</td>\n",
       "      <td>1817</td>\n",
       "      <td>CLT</td>\n",
       "      <td>MEM</td>\n",
       "      <td>2015</td>\n",
       "      <td>2010.0</td>\n",
       "      <td>-5.0</td>\n",
       "      <td>36.0</td>\n",
       "      <td>2046.0</td>\n",
       "      <td>...</td>\n",
       "      <td>112.0</td>\n",
       "      <td>128.0</td>\n",
       "      <td>88.0</td>\n",
       "      <td>511.0</td>\n",
       "      <td>NaN</td>\n",
       "      <td>NaN</td>\n",
       "      <td>NaN</td>\n",
       "      <td>NaN</td>\n",
       "      <td>NaN</td>\n",
       "      <td>NaN</td>\n",
       "    </tr>\n",
       "    <tr>\n",
       "      <th>30144613</th>\n",
       "      <td>2018-12-31</td>\n",
       "      <td>AA</td>\n",
       "      <td>1818</td>\n",
       "      <td>CLT</td>\n",
       "      <td>RDU</td>\n",
       "      <td>1300</td>\n",
       "      <td>1323.0</td>\n",
       "      <td>23.0</td>\n",
       "      <td>11.0</td>\n",
       "      <td>1334.0</td>\n",
       "      <td>...</td>\n",
       "      <td>50.0</td>\n",
       "      <td>41.0</td>\n",
       "      <td>26.0</td>\n",
       "      <td>130.0</td>\n",
       "      <td>NaN</td>\n",
       "      <td>NaN</td>\n",
       "      <td>NaN</td>\n",
       "      <td>NaN</td>\n",
       "      <td>NaN</td>\n",
       "      <td>NaN</td>\n",
       "    </tr>\n",
       "  </tbody>\n",
       "</table>\n",
       "<p>10816812 rows × 28 columns</p>\n",
       "</div>"
      ],
      "text/plain": [
       "             FL_DATE OP_CARRIER  OP_CARRIER_FL_NUM ORIGIN DEST  CRS_DEP_TIME  \\\n",
       "0         2014-01-01         AA               2377    ICT  DFW          1135   \n",
       "3         2014-01-01         EV               2502    CRW  DFW          1655   \n",
       "4         2014-01-01         EV               2502    DFW  CRW          1320   \n",
       "5         2014-01-01         EV               2503    AMA  DFW          1925   \n",
       "6         2014-01-01         EV               2503    DFW  AMA          1740   \n",
       "...              ...        ...                ...    ...  ...           ...   \n",
       "30144604  2018-12-31         AA               1811    CLT  TPA          1644   \n",
       "30144608  2018-12-31         AA               1814    DFW  PHL          1955   \n",
       "30144611  2018-12-31         AA               1816    CLT  DFW          1751   \n",
       "30144612  2018-12-31         AA               1817    CLT  MEM          2015   \n",
       "30144613  2018-12-31         AA               1818    CLT  RDU          1300   \n",
       "\n",
       "          DEP_TIME  DEP_DELAY  TAXI_OUT  WHEELS_OFF  ...  CRS_ELAPSED_TIME  \\\n",
       "0           1144.0        9.0      12.0      1156.0  ...              85.0   \n",
       "3           1805.0       70.0       6.0      1811.0  ...             185.0   \n",
       "4           1440.0       80.0       9.0      1449.0  ...             125.0   \n",
       "5           1909.0      -16.0       8.0      1917.0  ...              65.0   \n",
       "6           1740.0        0.0      14.0      1754.0  ...              70.0   \n",
       "...            ...        ...       ...         ...  ...               ...   \n",
       "30144604    1639.0       -5.0      40.0      1719.0  ...             106.0   \n",
       "30144608    2026.0       31.0      12.0      2038.0  ...             182.0   \n",
       "30144611    1757.0        6.0      18.0      1815.0  ...             181.0   \n",
       "30144612    2010.0       -5.0      36.0      2046.0  ...             112.0   \n",
       "30144613    1323.0       23.0      11.0      1334.0  ...              50.0   \n",
       "\n",
       "          ACTUAL_ELAPSED_TIME  AIR_TIME  DISTANCE  CARRIER_DELAY  \\\n",
       "0                        78.0      57.0     328.0            NaN   \n",
       "3                       180.0     150.0     946.0            0.0   \n",
       "4                       115.0     101.0     946.0            6.0   \n",
       "5                       104.0      43.0     312.0            0.0   \n",
       "6                        73.0      54.0     312.0            NaN   \n",
       "...                       ...       ...       ...            ...   \n",
       "30144604                120.0      77.0     507.0            NaN   \n",
       "30144608                160.0     142.0    1303.0            NaN   \n",
       "30144611                176.0     148.0     936.0            NaN   \n",
       "30144612                128.0      88.0     511.0            NaN   \n",
       "30144613                 41.0      26.0     130.0            NaN   \n",
       "\n",
       "          WEATHER_DELAY NAS_DELAY  SECURITY_DELAY  LATE_AIRCRAFT_DELAY  \\\n",
       "0                   NaN       NaN             NaN                  NaN   \n",
       "3                   0.0       0.0             0.0                 65.0   \n",
       "4                   0.0       0.0             0.0                 64.0   \n",
       "5                   0.0      23.0             0.0                  0.0   \n",
       "6                   NaN       NaN             NaN                  NaN   \n",
       "...                 ...       ...             ...                  ...   \n",
       "30144604            NaN       NaN             NaN                  NaN   \n",
       "30144608            NaN       NaN             NaN                  NaN   \n",
       "30144611            NaN       NaN             NaN                  NaN   \n",
       "30144612            NaN       NaN             NaN                  NaN   \n",
       "30144613            NaN       NaN             NaN                  NaN   \n",
       "\n",
       "          Unnamed: 27  \n",
       "0                 NaN  \n",
       "3                 NaN  \n",
       "4                 NaN  \n",
       "5                 NaN  \n",
       "6                 NaN  \n",
       "...               ...  \n",
       "30144604          NaN  \n",
       "30144608          NaN  \n",
       "30144611          NaN  \n",
       "30144612          NaN  \n",
       "30144613          NaN  \n",
       "\n",
       "[10816812 rows x 28 columns]"
      ]
     },
     "execution_count": 7,
     "metadata": {},
     "output_type": "execute_result"
    }
   ],
   "source": [
    "new = delayed.dropna(subset='DEP_DELAY',axis=0)\n",
    "new"
   ]
  },
  {
   "cell_type": "code",
   "execution_count": 8,
   "id": "8c9e9bbe",
   "metadata": {},
   "outputs": [],
   "source": [
    "x=new[['DEP_DELAY']]\n",
    "y=new['ARR_DELAY']"
   ]
  },
  {
   "cell_type": "code",
   "execution_count": 9,
   "id": "bf976696",
   "metadata": {},
   "outputs": [
    {
     "data": {
      "text/html": [
       "<style>#sk-container-id-1 {color: black;background-color: white;}#sk-container-id-1 pre{padding: 0;}#sk-container-id-1 div.sk-toggleable {background-color: white;}#sk-container-id-1 label.sk-toggleable__label {cursor: pointer;display: block;width: 100%;margin-bottom: 0;padding: 0.3em;box-sizing: border-box;text-align: center;}#sk-container-id-1 label.sk-toggleable__label-arrow:before {content: \"▸\";float: left;margin-right: 0.25em;color: #696969;}#sk-container-id-1 label.sk-toggleable__label-arrow:hover:before {color: black;}#sk-container-id-1 div.sk-estimator:hover label.sk-toggleable__label-arrow:before {color: black;}#sk-container-id-1 div.sk-toggleable__content {max-height: 0;max-width: 0;overflow: hidden;text-align: left;background-color: #f0f8ff;}#sk-container-id-1 div.sk-toggleable__content pre {margin: 0.2em;color: black;border-radius: 0.25em;background-color: #f0f8ff;}#sk-container-id-1 input.sk-toggleable__control:checked~div.sk-toggleable__content {max-height: 200px;max-width: 100%;overflow: auto;}#sk-container-id-1 input.sk-toggleable__control:checked~label.sk-toggleable__label-arrow:before {content: \"▾\";}#sk-container-id-1 div.sk-estimator input.sk-toggleable__control:checked~label.sk-toggleable__label {background-color: #d4ebff;}#sk-container-id-1 div.sk-label input.sk-toggleable__control:checked~label.sk-toggleable__label {background-color: #d4ebff;}#sk-container-id-1 input.sk-hidden--visually {border: 0;clip: rect(1px 1px 1px 1px);clip: rect(1px, 1px, 1px, 1px);height: 1px;margin: -1px;overflow: hidden;padding: 0;position: absolute;width: 1px;}#sk-container-id-1 div.sk-estimator {font-family: monospace;background-color: #f0f8ff;border: 1px dotted black;border-radius: 0.25em;box-sizing: border-box;margin-bottom: 0.5em;}#sk-container-id-1 div.sk-estimator:hover {background-color: #d4ebff;}#sk-container-id-1 div.sk-parallel-item::after {content: \"\";width: 100%;border-bottom: 1px solid gray;flex-grow: 1;}#sk-container-id-1 div.sk-label:hover label.sk-toggleable__label {background-color: #d4ebff;}#sk-container-id-1 div.sk-serial::before {content: \"\";position: absolute;border-left: 1px solid gray;box-sizing: border-box;top: 0;bottom: 0;left: 50%;z-index: 0;}#sk-container-id-1 div.sk-serial {display: flex;flex-direction: column;align-items: center;background-color: white;padding-right: 0.2em;padding-left: 0.2em;position: relative;}#sk-container-id-1 div.sk-item {position: relative;z-index: 1;}#sk-container-id-1 div.sk-parallel {display: flex;align-items: stretch;justify-content: center;background-color: white;position: relative;}#sk-container-id-1 div.sk-item::before, #sk-container-id-1 div.sk-parallel-item::before {content: \"\";position: absolute;border-left: 1px solid gray;box-sizing: border-box;top: 0;bottom: 0;left: 50%;z-index: -1;}#sk-container-id-1 div.sk-parallel-item {display: flex;flex-direction: column;z-index: 1;position: relative;background-color: white;}#sk-container-id-1 div.sk-parallel-item:first-child::after {align-self: flex-end;width: 50%;}#sk-container-id-1 div.sk-parallel-item:last-child::after {align-self: flex-start;width: 50%;}#sk-container-id-1 div.sk-parallel-item:only-child::after {width: 0;}#sk-container-id-1 div.sk-dashed-wrapped {border: 1px dashed gray;margin: 0 0.4em 0.5em 0.4em;box-sizing: border-box;padding-bottom: 0.4em;background-color: white;}#sk-container-id-1 div.sk-label label {font-family: monospace;font-weight: bold;display: inline-block;line-height: 1.2em;}#sk-container-id-1 div.sk-label-container {text-align: center;}#sk-container-id-1 div.sk-container {/* jupyter's `normalize.less` sets `[hidden] { display: none; }` but bootstrap.min.css set `[hidden] { display: none !important; }` so we also need the `!important` here to be able to override the default hidden behavior on the sphinx rendered scikit-learn.org. See: https://github.com/scikit-learn/scikit-learn/issues/21755 */display: inline-block !important;position: relative;}#sk-container-id-1 div.sk-text-repr-fallback {display: none;}</style><div id=\"sk-container-id-1\" class=\"sk-top-container\"><div class=\"sk-text-repr-fallback\"><pre>LinearRegression()</pre><b>In a Jupyter environment, please rerun this cell to show the HTML representation or trust the notebook. <br />On GitHub, the HTML representation is unable to render, please try loading this page with nbviewer.org.</b></div><div class=\"sk-container\" hidden><div class=\"sk-item\"><div class=\"sk-estimator sk-toggleable\"><input class=\"sk-toggleable__control sk-hidden--visually\" id=\"sk-estimator-id-1\" type=\"checkbox\" checked><label for=\"sk-estimator-id-1\" class=\"sk-toggleable__label sk-toggleable__label-arrow\">LinearRegression</label><div class=\"sk-toggleable__content\"><pre>LinearRegression()</pre></div></div></div></div></div>"
      ],
      "text/plain": [
       "LinearRegression()"
      ]
     },
     "execution_count": 9,
     "metadata": {},
     "output_type": "execute_result"
    }
   ],
   "source": [
    "lm.fit(x,y)"
   ]
  },
  {
   "cell_type": "code",
   "execution_count": 12,
   "id": "fdb43070",
   "metadata": {},
   "outputs": [
    {
     "name": "stdout",
     "output_type": "stream",
     "text": [
      "[5.04326329]\n"
     ]
    }
   ],
   "source": [
    "print(lm.intercept_)"
   ]
  },
  {
   "cell_type": "code",
   "execution_count": 13,
   "id": "ed7016bc",
   "metadata": {},
   "outputs": [
    {
     "name": "stdout",
     "output_type": "stream",
     "text": [
      "[[0.94051523]]\n"
     ]
    }
   ],
   "source": [
    "print(lm.coef_)"
   ]
  },
  {
   "cell_type": "code",
   "execution_count": 55,
   "id": "0326ccbb",
   "metadata": {},
   "outputs": [
    {
     "data": {
      "image/png": "[encoded data removed]",
      "text/plain": [
       "<Figure size 1008x576 with 1 Axes>"
      ]
     },
     "metadata": {
      "needs_background": "light"
     },
     "output_type": "display_data"
    }
   ],
   "source": [
    "plt.figure(figsize=(14, 8))\n",
    "sns.residplot(x,y)\n",
    "plt.xlabel(\"Departure delay\",fontsize=14)\n",
    "plt.ylabel(\"Arrival delay\",fontsize=14)\n",
    "plt.title(\"The residuals of linear regression\",fontsize=18)\n",
    "plt.show()"
   ]
  },
  {
   "cell_type": "code",
   "execution_count": 52,
   "id": "5f6e0a52",
   "metadata": {},
   "outputs": [
    {
     "data": {
      "image/png": "[encoded data removed]",
      "text/plain": [
       "<Figure size 1008x576 with 1 Axes>"
      ]
     },
     "metadata": {
      "needs_background": "light"
     },
     "output_type": "display_data"
    }
   ],
   "source": [
    "plt.figure(figsize=(14, 8))\n",
    "sns.regplot(x,y, data=new)\n",
    "plt.xlabel(\"Departure delay\",fontsize=14)\n",
    "plt.ylabel(\"Arrival delay\",fontsize=14)\n",
    "plt.title(\"Plot data and a linear regression model fit\",fontsize=18)\n",
    "plt.show()"
   ]
  },
  {
   "cell_type": "code",
   "execution_count": 16,
   "id": "16557a94",
   "metadata": {},
   "outputs": [
    {
     "data": {
      "text/plain": [
       "array([[13.50790035],\n",
       "       [70.87932937],\n",
       "       [80.28448166],\n",
       "       ...,\n",
       "       [10.68635467],\n",
       "       [ 0.34068714],\n",
       "       [26.67511357]])"
      ]
     },
     "execution_count": 16,
     "metadata": {},
     "output_type": "execute_result"
    }
   ],
   "source": [
    "Yhat = lm.predict(x)\n",
    "Yhat"
   ]
  },
  {
   "cell_type": "code",
   "execution_count": 14,
   "id": "7477e236",
   "metadata": {},
   "outputs": [
    {
     "data": {
      "text/plain": [
       "0.9340010905936487"
      ]
     },
     "execution_count": 14,
     "metadata": {},
     "output_type": "execute_result"
    }
   ],
   "source": [
    "lm.score(x, y)"
   ]
  },
  {
   "cell_type": "code",
   "execution_count": 15,
   "id": "769ed072",
   "metadata": {},
   "outputs": [],
   "source": [
    "from sklearn.metrics import mean_squared_error"
   ]
  },
  {
   "cell_type": "code",
   "execution_count": 24,
   "id": "5fcfdb21",
   "metadata": {},
   "outputs": [
    {
     "data": {
      "text/plain": [
       "230.8632153082759"
      ]
     },
     "execution_count": 24,
     "metadata": {},
     "output_type": "execute_result"
    }
   ],
   "source": [
    "mean_squared_error(y,Yhat)"
   ]
  }
 ],
 "metadata": {
  "kernelspec": {
   "display_name": "Python 3 (ipykernel)",
   "language": "python",
   "name": "python3"
  },
  "language_info": {
   "codemirror_mode": {
    "name": "ipython",
    "version": 3
   },
   "file_extension": ".py",
   "mimetype": "text/x-python",
   "name": "python",
   "nbconvert_exporter": "python",
   "pygments_lexer": "ipython3",
   "version": "3.9.13"
  }
 },
 "nbformat": 4,
 "nbformat_minor": 5
}
